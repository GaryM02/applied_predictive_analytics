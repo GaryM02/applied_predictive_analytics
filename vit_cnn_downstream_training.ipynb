{
  "cells": [
    {
      "cell_type": "markdown",
      "metadata": {
        "id": "view-in-github",
        "colab_type": "text"
      },
      "source": [
        "<a href=\"https://colab.research.google.com/github/GaryM02/applied_predictive_analytics/blob/main/vit_cnn_downstream_training.ipynb\" target=\"_parent\"><img src=\"https://colab.research.google.com/assets/colab-badge.svg\" alt=\"Open In Colab\"/></a>"
      ]
    },
    {
      "cell_type": "code",
      "execution_count": 12,
      "metadata": {
        "id": "S_viM-KS40b1"
      },
      "outputs": [],
      "source": [
        "import torch\n",
        "import torch.nn as nn\n",
        "import torch.optim as optim\n",
        "from sklearn.metrics import f1_score, classification_report, confusion_matrix\n",
        "from torchvision import datasets, transforms\n",
        "from torch.utils.data import DataLoader\n",
        "import timm\n",
        "import os\n",
        "import numpy as np\n",
        "import matplotlib.pyplot as plt\n",
        "from tqdm import tqdm\n",
        "from sklearn.metrics import confusion_matrix, classification_report, f1_score\n",
        "import seaborn as sns\n",
        "import matplotlib.pyplot as plt"
      ]
    },
    {
      "cell_type": "code",
      "execution_count": 2,
      "metadata": {
        "colab": {
          "base_uri": "https://localhost:8080/"
        },
        "id": "x3zXbpuA3cku",
        "outputId": "86510af8-3a2c-456b-f7db-f518cf03d95c"
      },
      "outputs": [
        {
          "output_type": "stream",
          "name": "stdout",
          "text": [
            "Mounted at /content/drive\n"
          ]
        }
      ],
      "source": [
        "# connect drive\n",
        "from google.colab import drive\n",
        "drive.mount('/content/drive')\n",
        "os.chdir('/content/drive/MyDrive/Colab Notebooks/PredictiveAnalyticsProject')"
      ]
    },
    {
      "cell_type": "markdown",
      "metadata": {
        "id": "6o2nacRBU57i"
      },
      "source": [
        "# Define Training Functions"
      ]
    },
    {
      "cell_type": "code",
      "execution_count": 13,
      "metadata": {
        "id": "FMFd7VfxU4jN"
      },
      "outputs": [],
      "source": [
        "# Model Preparation\n",
        "def prepare_model(model_name, num_classes, pretrained=True):\n",
        "    \"\"\"\n",
        "    Loads a pre-trained model, modifies the classification head for the specified number of classes.\n",
        "    \"\"\"\n",
        "    model = timm.create_model(model_name, pretrained=pretrained)\n",
        "    if 'vit' in model_name:  # Vision Transformer\n",
        "        model.head = nn.Linear(model.head.in_features, num_classes)\n",
        "    elif 'efficientnetv2' in model_name:  # EfficientNetV2\n",
        "        model.classifier = nn.Linear(model.classifier.in_features, num_classes)\n",
        "    else:\n",
        "        raise ValueError(f\"Unsupported model name: {model_name}\")\n",
        "    return model\n",
        "\n",
        "# Freezing initial layers\n",
        "def freeze_initial_layers(model, num_layers_to_freeze):\n",
        "    frozen = 0\n",
        "    for name, module in model.named_children():\n",
        "        if frozen < num_layers_to_freeze:\n",
        "            for param in module.parameters():\n",
        "                param.requires_grad = False\n",
        "            frozen += 1\n",
        "        else:\n",
        "            break\n",
        "\n",
        "# Data Loading\n",
        "def load_data(batch_size=512):\n",
        "    train_transform = transforms.Compose([\n",
        "        transforms.RandomResizedCrop(224),\n",
        "        transforms.RandomHorizontalFlip(),\n",
        "        transforms.ColorJitter(brightness=0.2, contrast=0.2, saturation=0.2, hue=0.1),\n",
        "        transforms.RandomRotation(10),\n",
        "        transforms.ToTensor(),\n",
        "        transforms.Normalize(mean=[0.5, 0.5, 0.5], std=[0.5, 0.5, 0.5])\n",
        "    ])\n",
        "    val_transform = transforms.Compose([\n",
        "        transforms.Resize((224, 224)),\n",
        "        transforms.ToTensor(),\n",
        "        transforms.Normalize(mean=[0.5, 0.5, 0.5], std=[0.5, 0.5, 0.5])\n",
        "    ])\n",
        "    train_dataset = datasets.ImageFolder(root='data/train', transform=train_transform)\n",
        "    val_dataset = datasets.ImageFolder(root='data/validation', transform=val_transform)\n",
        "    train_loader = DataLoader(train_dataset, batch_size=batch_size, shuffle=True, num_workers=8, prefetch_factor=16, pin_memory=True)\n",
        "    val_loader = DataLoader(val_dataset, batch_size=batch_size, num_workers=8, prefetch_factor=16, pin_memory=True)\n",
        "    return train_loader, val_loader\n",
        "\n",
        "# Save model state for resume training\n",
        "def save_checkpoint(model, optimizer, epoch, best_f1, filepath):\n",
        "    checkpoint = {\n",
        "        'model_state_dict': model.state_dict(),\n",
        "        'optimizer_state_dict': optimizer.state_dict(),\n",
        "        'epoch': epoch,\n",
        "        'best_f1': best_f1\n",
        "    }\n",
        "    torch.save(checkpoint, filepath)\n",
        "\n",
        "# Load model state for resume training\n",
        "def load_checkpoint(filepath, model, optimizer):\n",
        "    checkpoint = torch.load(filepath)\n",
        "    model.load_state_dict(checkpoint['model_state_dict'])\n",
        "    optimizer.load_state_dict(checkpoint['optimizer_state_dict'])\n",
        "    epoch = checkpoint['epoch']\n",
        "    best_f1 = checkpoint['best_f1']\n",
        "    return model, optimizer, epoch, best_f1\n",
        "\n",
        "# Train one epoch\n",
        "def train_one_epoch(model, loader, criterion, optimizer, scaler, device):\n",
        "    model.train()\n",
        "    running_loss, correct, total = 0.0, 0, 0\n",
        "    all_labels, all_predictions = [], []\n",
        "\n",
        "    progress = tqdm(loader, desc=\"Training\", leave=False)\n",
        "    for images, labels in progress:\n",
        "        images, labels = images.to(device), labels.to(device)\n",
        "        optimizer.zero_grad()\n",
        "\n",
        "        # Mixed precision forward pass\n",
        "        with torch.amp.autocast('cuda'):\n",
        "            outputs = model(images)\n",
        "            loss = criterion(outputs, labels)\n",
        "\n",
        "        scaler.scale(loss).backward()\n",
        "        scaler.step(optimizer)\n",
        "        scaler.update()\n",
        "\n",
        "        running_loss += loss.item()\n",
        "        _, predicted = torch.max(outputs, 1)\n",
        "        total += labels.size(0)\n",
        "        correct += (predicted == labels).sum().item()\n",
        "\n",
        "        all_labels.extend(labels.cpu().numpy())\n",
        "        all_predictions.extend(predicted.cpu().numpy())\n",
        "\n",
        "    f1 = f1_score(all_labels, all_predictions, average='weighted')\n",
        "    return running_loss / len(loader), f1\n",
        "\n",
        "# Validate the model\n",
        "def validate_model(model, loader, criterion, device):\n",
        "    model.eval()\n",
        "    running_loss, all_labels, all_predictions = 0.0, [], []\n",
        "\n",
        "    with torch.no_grad():\n",
        "        for images, labels in loader:\n",
        "            images, labels = images.to(device), labels.to(device)\n",
        "            with torch.amp.autocast('cuda'):\n",
        "                outputs = model(images)\n",
        "                loss = criterion(outputs, labels)\n",
        "\n",
        "            running_loss += loss.item()\n",
        "            _, predicted = torch.max(outputs, 1)\n",
        "            all_labels.extend(labels.cpu().numpy())\n",
        "            all_predictions.extend(predicted.cpu().numpy())\n",
        "\n",
        "    f1 = f1_score(all_labels, all_predictions, average='weighted')\n",
        "    return running_loss / len(loader), f1, all_labels, all_predictions\n",
        "\n",
        "# Plot metrics\n",
        "def plot_metrics(metrics):\n",
        "    plt.figure(figsize=(10, 5))\n",
        "    for key, values in metrics.items():\n",
        "        plt.plot(values, label=key)\n",
        "    plt.legend()\n",
        "    plt.show()\n",
        "\n",
        "# Training Loop\n",
        "def train_model(model, train_loader, val_loader, criterion, optimizer, scheduler, scaler, device, resume_path=None):\n",
        "    num_epochs = 25\n",
        "    early_stopping_patience = 5\n",
        "    early_stopping_counter = 0\n",
        "    best_f1 = 0.0\n",
        "    metrics = {\"train_loss\": [], \"val_loss\": [], \"train_f1\": [], \"val_f1\": []}\n",
        "    start_epoch = 0\n",
        "\n",
        "    # Resume training if a checkpoint is provided\n",
        "    if resume_path:\n",
        "        model, optimizer, start_epoch, best_f1 = load_checkpoint(resume_path, model, optimizer)\n",
        "        print(f\"Resumed training from epoch {start_epoch} with best F1: {best_f1:.4f}, lr: {optimizer.param_groups[0]['lr']}\")\n",
        "\n",
        "    for epoch in range(start_epoch, num_epochs):\n",
        "        print(f\"Epoch {epoch+1}/{num_epochs}\")\n",
        "        train_loss, train_f1 = train_one_epoch(model, train_loader, criterion, optimizer, scaler, device)\n",
        "        val_loss, val_f1, val_labels, val_preds = validate_model(model, val_loader, criterion, device)\n",
        "\n",
        "        metrics[\"train_loss\"].append(train_loss)\n",
        "        metrics[\"val_loss\"].append(val_loss)\n",
        "        metrics[\"train_f1\"].append(train_f1)\n",
        "        metrics[\"val_f1\"].append(val_f1)\n",
        "\n",
        "        print(f\"Train Loss: {train_loss:.4f}, Train F1: {train_f1:.4f}\")\n",
        "        print(f\"Val Loss: {val_loss:.4f}, Val F1: {val_f1:.4f}\")\n",
        "\n",
        "        scheduler.step()\n",
        "\n",
        "        # Save the best model\n",
        "        if val_f1 > best_f1:\n",
        "            best_f1 = val_f1\n",
        "            save_checkpoint(model, optimizer, epoch, best_f1, \"best_model.pth\")\n",
        "            early_stopping_counter = 0\n",
        "        else:\n",
        "            early_stopping_counter += 1\n",
        "\n",
        "        # Early stopping\n",
        "        if early_stopping_counter >= early_stopping_patience:\n",
        "            print(\"Early stopping triggered.\")\n",
        "            break\n",
        "\n",
        "    plot_metrics(metrics)\n",
        "\n",
        "# Evaluate the model on a test dataset\n",
        "def evaluate_test_dataset(model, test_loader, device):\n",
        "    model.eval()\n",
        "    all_labels = []\n",
        "    all_predictions = []\n",
        "\n",
        "    with torch.no_grad():\n",
        "        for images, labels in test_loader:\n",
        "            images, labels = images.to(device), labels.to(device)\n",
        "            outputs = model(images)\n",
        "            _, predicted = torch.max(outputs, 1)\n",
        "            all_labels.extend(labels.cpu().numpy())\n",
        "            all_predictions.extend(predicted.cpu().numpy())\n",
        "\n",
        "    # Metrics Calculation\n",
        "    f1 = f1_score(all_labels, all_predictions, average='weighted')\n",
        "    conf_matrix = confusion_matrix(all_labels, all_predictions)\n",
        "    class_report = classification_report(all_labels, all_predictions, target_names=test_loader.dataset.classes)\n",
        "\n",
        "    # Print Metrics\n",
        "    print(f\"Weighted F1 Score: {f1:.4f}\")\n",
        "    print(\"\\nClassification Report:\\n\")\n",
        "    print(class_report)\n",
        "\n",
        "    # Confusion Matrix Visualization\n",
        "    plt.figure(figsize=(10, 8))\n",
        "    sns.heatmap(conf_matrix, annot=True, fmt=\"d\", cmap=\"Blues\", xticklabels=test_loader.dataset.classes, yticklabels=test_loader.dataset.classes)\n",
        "    plt.xlabel(\"Predicted Labels\")\n",
        "    plt.ylabel(\"True Labels\")\n",
        "    plt.title(\"Confusion Matrix\")\n",
        "    plt.show()"
      ]
    },
    {
      "cell_type": "markdown",
      "metadata": {
        "id": "zzqa8mgFZvvD"
      },
      "source": [
        "## Create profiler to track performance and bottlenecks"
      ]
    },
    {
      "cell_type": "markdown",
      "metadata": {
        "id": "eK9kTg8qVUza"
      },
      "source": [
        "# Main"
      ]
    },
    {
      "cell_type": "code",
      "execution_count": 4,
      "metadata": {
        "id": "YKSuL3X1Va-W"
      },
      "outputs": [],
      "source": [
        "device = torch.device(\"cuda\" if torch.cuda.is_available() else \"cpu\")"
      ]
    },
    {
      "cell_type": "code",
      "execution_count": 5,
      "metadata": {
        "colab": {
          "base_uri": "https://localhost:8080/",
          "height": 212,
          "referenced_widgets": [
            "4c80905d23264d3aae87232a879467f6",
            "ebae9e01f1fb4b78b41efa3673080365",
            "34d6650efb4d4a3294bb4624e15a9b65",
            "51bea31c5408413cb4e5b560f0bbc349",
            "4e92e2f1edb741b8936d3082e3765e51",
            "4d4006828fda44d5940b4183b9fc98ef",
            "dc43ac473bec47929f422bf754ad27ab",
            "6a4164d057d5405389884709c7a2b644",
            "7760c201a7e44aaf8c6dcd7c50efd5b4",
            "9ed76b8dfaa141c1af40609b8ae7c998",
            "5206f025b43b4c8baeba94f23d6939cd"
          ]
        },
        "id": "pnDTk4ATVcd1",
        "outputId": "6e74f485-6b00-4ca7-b2b4-9e7ce123accd"
      },
      "outputs": [
        {
          "output_type": "stream",
          "name": "stderr",
          "text": [
            "/usr/local/lib/python3.10/dist-packages/timm/models/_factory.py:117: UserWarning: Mapping deprecated model name vit_base_patch16_224_in21k to current vit_base_patch16_224.augreg_in21k.\n",
            "  model = create_fn(\n",
            "/usr/local/lib/python3.10/dist-packages/huggingface_hub/utils/_auth.py:94: UserWarning: \n",
            "The secret `HF_TOKEN` does not exist in your Colab secrets.\n",
            "To authenticate with the Hugging Face Hub, create a token in your settings tab (https://huggingface.co/settings/tokens), set it as secret in your Google Colab and restart your session.\n",
            "You will be able to reuse this secret in all of your notebooks.\n",
            "Please note that authentication is recommended but still optional to access public models or datasets.\n",
            "  warnings.warn(\n"
          ]
        },
        {
          "output_type": "display_data",
          "data": {
            "text/plain": [
              "model.safetensors:   0%|          | 0.00/410M [00:00<?, ?B/s]"
            ],
            "application/vnd.jupyter.widget-view+json": {
              "version_major": 2,
              "version_minor": 0,
              "model_id": "4c80905d23264d3aae87232a879467f6"
            }
          },
          "metadata": {}
        }
      ],
      "source": [
        "# Prepare model and optimizer\n",
        "model = prepare_model('vit_base_patch16_224_in21k', num_classes=10)\n",
        "if torch.cuda.device_count() > 1:\n",
        "    model = nn.DataParallel(model)\n",
        "model = model.to(device)"
      ]
    },
    {
      "cell_type": "code",
      "execution_count": 10,
      "metadata": {
        "id": "Mo4ttYNaVelL"
      },
      "outputs": [],
      "source": [
        "freeze_initial_layers(model, 5)\n",
        "train_loader, val_loader = load_data(batch_size=128)"
      ]
    },
    {
      "cell_type": "code",
      "execution_count": 7,
      "metadata": {
        "id": "uKVX16jVVizB"
      },
      "outputs": [],
      "source": [
        "criterion = nn.CrossEntropyLoss(label_smoothing=0.1)\n",
        "optimizer = optim.AdamW(model.parameters(), lr=1e-4, weight_decay=1e-5)\n",
        "scheduler = optim.lr_scheduler.CyclicLR(optimizer, base_lr=1e-5, max_lr=1e-3, step_size_up=10, mode='triangular')\n",
        "scaler = torch.amp.GradScaler('cuda')"
      ]
    },
    {
      "cell_type": "code",
      "execution_count": 11,
      "metadata": {
        "colab": {
          "base_uri": "https://localhost:8080/",
          "height": 1000
        },
        "id": "QyyaJPirVJK8",
        "outputId": "28dc5058-6cfa-4a28-bb8f-b1f99f2bc48e"
      },
      "outputs": [
        {
          "output_type": "stream",
          "name": "stderr",
          "text": [
            "<ipython-input-9-55b3b945ea2b>:59: FutureWarning: You are using `torch.load` with `weights_only=False` (the current default value), which uses the default pickle module implicitly. It is possible to construct malicious pickle data which will execute arbitrary code during unpickling (See https://github.com/pytorch/pytorch/blob/main/SECURITY.md#untrusted-models for more details). In a future release, the default value for `weights_only` will be flipped to `True`. This limits the functions that could be executed during unpickling. Arbitrary objects will no longer be allowed to be loaded via this mode unless they are explicitly allowlisted by the user via `torch.serialization.add_safe_globals`. We recommend you start setting `weights_only=True` for any use case where you don't have full control of the loaded file. Please open an issue on GitHub for any issues related to this experimental feature.\n",
            "  checkpoint = torch.load(filepath)\n"
          ]
        },
        {
          "output_type": "stream",
          "name": "stdout",
          "text": [
            "Resumed training from epoch 12 with best F1: 0.7674\n",
            "Epoch 13/25\n"
          ]
        },
        {
          "output_type": "stream",
          "name": "stderr",
          "text": []
        },
        {
          "output_type": "stream",
          "name": "stdout",
          "text": [
            "Train Loss: 1.0271, Train F1: 0.7704\n",
            "Val Loss: 1.0497, Val F1: 0.7661\n",
            "Epoch 14/25\n"
          ]
        },
        {
          "output_type": "stream",
          "name": "stderr",
          "text": []
        },
        {
          "output_type": "stream",
          "name": "stdout",
          "text": [
            "Train Loss: 1.0232, Train F1: 0.7726\n",
            "Val Loss: 1.0472, Val F1: 0.7663\n",
            "Epoch 15/25\n"
          ]
        },
        {
          "output_type": "stream",
          "name": "stderr",
          "text": []
        },
        {
          "output_type": "stream",
          "name": "stdout",
          "text": [
            "Train Loss: 1.0213, Train F1: 0.7690\n",
            "Val Loss: 1.0514, Val F1: 0.7631\n",
            "Epoch 16/25\n"
          ]
        },
        {
          "output_type": "stream",
          "name": "stderr",
          "text": []
        },
        {
          "output_type": "stream",
          "name": "stdout",
          "text": [
            "Train Loss: 1.0274, Train F1: 0.7693\n",
            "Val Loss: 1.0491, Val F1: 0.7711\n",
            "Epoch 17/25\n"
          ]
        },
        {
          "output_type": "stream",
          "name": "stderr",
          "text": []
        },
        {
          "output_type": "stream",
          "name": "stdout",
          "text": [
            "Train Loss: 1.0264, Train F1: 0.7694\n",
            "Val Loss: 1.0398, Val F1: 0.7659\n",
            "Epoch 18/25\n"
          ]
        },
        {
          "output_type": "stream",
          "name": "stderr",
          "text": []
        },
        {
          "output_type": "stream",
          "name": "stdout",
          "text": [
            "Train Loss: 1.0272, Train F1: 0.7681\n",
            "Val Loss: 1.0579, Val F1: 0.7565\n",
            "Epoch 19/25\n"
          ]
        },
        {
          "output_type": "stream",
          "name": "stderr",
          "text": []
        },
        {
          "output_type": "stream",
          "name": "stdout",
          "text": [
            "Train Loss: 1.0296, Train F1: 0.7639\n",
            "Val Loss: 1.0280, Val F1: 0.7715\n",
            "Epoch 20/25\n"
          ]
        },
        {
          "output_type": "stream",
          "name": "stderr",
          "text": []
        },
        {
          "output_type": "stream",
          "name": "stdout",
          "text": [
            "Train Loss: 1.0349, Train F1: 0.7669\n",
            "Val Loss: 1.0446, Val F1: 0.7628\n",
            "Epoch 21/25\n"
          ]
        },
        {
          "output_type": "stream",
          "name": "stderr",
          "text": []
        },
        {
          "output_type": "stream",
          "name": "stdout",
          "text": [
            "Train Loss: 1.0492, Train F1: 0.7598\n",
            "Val Loss: 1.0645, Val F1: 0.7630\n",
            "Epoch 22/25\n"
          ]
        },
        {
          "output_type": "stream",
          "name": "stderr",
          "text": []
        },
        {
          "output_type": "stream",
          "name": "stdout",
          "text": [
            "Train Loss: 1.0524, Train F1: 0.7558\n",
            "Val Loss: 1.1218, Val F1: 0.7224\n",
            "Epoch 23/25\n"
          ]
        },
        {
          "output_type": "stream",
          "name": "stderr",
          "text": []
        },
        {
          "output_type": "stream",
          "name": "stdout",
          "text": [
            "Train Loss: 1.0500, Train F1: 0.7601\n",
            "Val Loss: 1.0667, Val F1: 0.7545\n",
            "Epoch 24/25\n"
          ]
        },
        {
          "output_type": "stream",
          "name": "stderr",
          "text": []
        },
        {
          "output_type": "stream",
          "name": "stdout",
          "text": [
            "Train Loss: 1.0434, Train F1: 0.7607\n",
            "Val Loss: 1.0421, Val F1: 0.7618\n",
            "Early stopping triggered.\n"
          ]
        },
        {
          "output_type": "display_data",
          "data": {
            "text/plain": [
              "<Figure size 1000x500 with 1 Axes>"
            ],
            "image/png": "[encoded data removed]"
          },
          "metadata": {}
        }
      ],
      "source": [
        "# Train the model\n",
        "train_model(model, train_loader, val_loader, criterion, optimizer, scheduler, scaler, device, resume_path=\"best_model.pth\")"
      ]
    },
    {
      "cell_type": "code",
      "source": [
        "# evaluate with test set\n",
        "test_transform = transforms.Compose([\n",
        "    transforms.Resize((224, 224)),\n",
        "    transforms.ToTensor(),\n",
        "    transforms.Normalize(mean=[0.5, 0.5, 0.5], std=[0.5, 0.5, 0.5])\n",
        "])\n",
        "test_dataset = datasets.ImageFolder(root='data/test', transform=test_transform)\n",
        "test_loader = DataLoader(test_dataset, batch_size=128, num_workers=8, pin_memory=True)\n"
      ],
      "metadata": {
        "id": "c0dpj_8c9KOA"
      },
      "execution_count": 14,
      "outputs": []
    },
    {
      "cell_type": "code",
      "source": [
        "checkpoint = torch.load('best_model.pth')\n",
        "model.load_state_dict(checkpoint['model_state_dict'])"
      ],
      "metadata": {
        "colab": {
          "base_uri": "https://localhost:8080/"
        },
        "id": "3cWQvyo0975I",
        "outputId": "f133fba1-5279-4bdb-95f4-e318c2b7e562"
      },
      "execution_count": 16,
      "outputs": [
        {
          "output_type": "stream",
          "name": "stderr",
          "text": [
            "<ipython-input-16-2c924bc05b6e>:1: FutureWarning: You are using `torch.load` with `weights_only=False` (the current default value), which uses the default pickle module implicitly. It is possible to construct malicious pickle data which will execute arbitrary code during unpickling (See https://github.com/pytorch/pytorch/blob/main/SECURITY.md#untrusted-models for more details). In a future release, the default value for `weights_only` will be flipped to `True`. This limits the functions that could be executed during unpickling. Arbitrary objects will no longer be allowed to be loaded via this mode unless they are explicitly allowlisted by the user via `torch.serialization.add_safe_globals`. We recommend you start setting `weights_only=True` for any use case where you don't have full control of the loaded file. Please open an issue on GitHub for any issues related to this experimental feature.\n",
            "  checkpoint = torch.load('best_model.pth')\n"
          ]
        },
        {
          "output_type": "execute_result",
          "data": {
            "text/plain": [
              "<All keys matched successfully>"
            ]
          },
          "metadata": {},
          "execution_count": 16
        }
      ]
    },
    {
      "cell_type": "code",
      "source": [
        "evaluate_test_dataset(model, test_loader, device)"
      ],
      "metadata": {
        "colab": {
          "base_uri": "https://localhost:8080/",
          "height": 1000
        },
        "id": "bjyOr4Wp9-mG",
        "outputId": "202d7007-00bb-4bac-b440-b42241f366a4"
      },
      "execution_count": 17,
      "outputs": [
        {
          "output_type": "stream",
          "name": "stdout",
          "text": [
            "Weighted F1 Score: 0.7703\n",
            "\n",
            "Classification Report:\n",
            "\n",
            "                               precision    recall  f1-score   support\n",
            "\n",
            "            Atopic Dermatitis       0.59      0.38      0.46       190\n",
            "         Basal Cell Carcinoma       0.88      0.85      0.87       499\n",
            "Benign Keratosis-like Lesions       0.70      0.69      0.70       313\n",
            "                 Benign Tumor       0.77      0.68      0.72       279\n",
            "                       Eczema       0.56      0.59      0.57       253\n",
            "             Fungal Infection       0.62      0.50      0.55       257\n",
            "             Melanocytic Nevi       0.93      0.94      0.93      1197\n",
            "                     Melanoma       0.93      0.96      0.94       473\n",
            "                    Psoriasis       0.53      0.52      0.52       310\n",
            "             Viral Infections       0.53      0.75      0.62       316\n",
            "\n",
            "                     accuracy                           0.77      4087\n",
            "                    macro avg       0.70      0.69      0.69      4087\n",
            "                 weighted avg       0.77      0.77      0.77      4087\n",
            "\n"
          ]
        },
        {
          "output_type": "display_data",
          "data": {
            "text/plain": [
              "<Figure size 1000x800 with 2 Axes>"
            ],
            "image/png": "[encoded data removed]"
          },
          "metadata": {}
        }
      ]
    },
    {
      "cell_type": "markdown",
      "metadata": {
        "id": "Q65e54uAoQB-"
      },
      "source": [
        "# Profiling fr optimal performance"
      ]
    },
    {
      "cell_type": "code",
      "execution_count": null,
      "metadata": {
        "id": "XoUkjzDmqR44"
      },
      "outputs": [],
      "source": [
        "# clear ram\n",
        "import gc\n",
        "gc.collect()\n",
        "torch.cuda.empty_cache()\n",
        "\n",
        "# clear system ram\n",
        "import psutil\n",
        "psutil.virtual_memory().available\n"
      ]
    },
    {
      "cell_type": "markdown",
      "metadata": {
        "id": "O0eAMw1vSeat"
      },
      "source": [
        "# Key Features Used\n",
        "Visualization with Matplotlib: Plots training/validation loss and F1 scores dynamically.\n",
        "\n",
        "Gradient Monitoring: Part of mixed precision scaling (scaler.update()).\n",
        "\n",
        "Memory Usage Profiling: Integrated into adjust_batch_size.\n",
        "\n",
        "Dynamic Batch Size Adjustment: Automatically adjusts to prevent OOM errors.\n",
        "\n",
        "Mixed Precision Training: Uses torch.cuda.amp for speed and memory efficiency.\n",
        "\n",
        "Efficient Checkpointing: Saves the model only when validation F1 improves.\n",
        "\n",
        "Distributed Training: Supports multi-GPU with nn.DataParallel.\n",
        "\n",
        "Hyperparameter Tuning: Scheduler controls learning rate dynamically.\n",
        "\n",
        "Dropout Regularization: Implicitly part of pre-trained models.\n",
        "\n",
        "Cyclic Learning Rate Scheduling: Integrated using CyclicLR.\n",
        "\n",
        "Early Stopping with Multiple Metrics: Stops training when metrics stop improving.\n",
        "\n",
        "Warmup Phases for Learning Rates: Achieved via cyclic scheduler.\n",
        "\n",
        "Confusion Matrix and Classification Report: Provides detailed evaluation metrics.\n",
        "\n",
        "Per-Class Metrics: Delivered via classification report.\n",
        "\n",
        "Robust Test Evaluation: Final test set evaluation using the best model.\n",
        "Progress Bars: Added via tqdm."
      ]
    }
  ],
  "metadata": {
    "accelerator": "GPU",
    "colab": {
      "gpuType": "T4",
      "machine_shape": "hm",
      "provenance": [],
      "authorship_tag": "ABX9TyOQxqUMMxr3TsXsOcLDuIC+",
      "include_colab_link": true
    },
    "kernelspec": {
      "display_name": "Python 3",
      "name": "python3"
    },
    "language_info": {
      "name": "python"
    },
    "widgets": {
      "application/vnd.jupyter.widget-state+json": {
        "4c80905d23264d3aae87232a879467f6": {
          "model_module": "@jupyter-widgets/controls",
          "model_name": "HBoxModel",
          "model_module_version": "1.5.0",
          "state": {
            "_dom_classes": [],
            "_model_module": "@jupyter-widgets/controls",
            "_model_module_version": "1.5.0",
            "_model_name": "HBoxModel",
            "_view_count": null,
            "_view_module": "@jupyter-widgets/controls",
            "_view_module_version": "1.5.0",
            "_view_name": "HBoxView",
            "box_style": "",
            "children": [
              "IPY_MODEL_ebae9e01f1fb4b78b41efa3673080365",
              "IPY_MODEL_34d6650efb4d4a3294bb4624e15a9b65",
              "IPY_MODEL_51bea31c5408413cb4e5b560f0bbc349"
            ],
            "layout": "IPY_MODEL_4e92e2f1edb741b8936d3082e3765e51"
          }
        },
        "ebae9e01f1fb4b78b41efa3673080365": {
          "model_module": "@jupyter-widgets/controls",
          "model_name": "HTMLModel",
          "model_module_version": "1.5.0",
          "state": {
            "_dom_classes": [],
            "_model_module": "@jupyter-widgets/controls",
            "_model_module_version": "1.5.0",
            "_model_name": "HTMLModel",
            "_view_count": null,
            "_view_module": "@jupyter-widgets/controls",
            "_view_module_version": "1.5.0",
            "_view_name": "HTMLView",
            "description": "",
            "description_tooltip": null,
            "layout": "IPY_MODEL_4d4006828fda44d5940b4183b9fc98ef",
            "placeholder": "​",
            "style": "IPY_MODEL_dc43ac473bec47929f422bf754ad27ab",
            "value": "model.safetensors: 100%"
          }
        },
        "34d6650efb4d4a3294bb4624e15a9b65": {
          "model_module": "@jupyter-widgets/controls",
          "model_name": "FloatProgressModel",
          "model_module_version": "1.5.0",
          "state": {
            "_dom_classes": [],
            "_model_module": "@jupyter-widgets/controls",
            "_model_module_version": "1.5.0",
            "_model_name": "FloatProgressModel",
            "_view_count": null,
            "_view_module": "@jupyter-widgets/controls",
            "_view_module_version": "1.5.0",
            "_view_name": "ProgressView",
            "bar_style": "success",
            "description": "",
            "description_tooltip": null,
            "layout": "IPY_MODEL_6a4164d057d5405389884709c7a2b644",
            "max": 410397786,
            "min": 0,
            "orientation": "horizontal",
            "style": "IPY_MODEL_7760c201a7e44aaf8c6dcd7c50efd5b4",
            "value": 410397786
          }
        },
        "51bea31c5408413cb4e5b560f0bbc349": {
          "model_module": "@jupyter-widgets/controls",
          "model_name": "HTMLModel",
          "model_module_version": "1.5.0",
          "state": {
            "_dom_classes": [],
            "_model_module": "@jupyter-widgets/controls",
            "_model_module_version": "1.5.0",
            "_model_name": "HTMLModel",
            "_view_count": null,
            "_view_module": "@jupyter-widgets/controls",
            "_view_module_version": "1.5.0",
            "_view_name": "HTMLView",
            "description": "",
            "description_tooltip": null,
            "layout": "IPY_MODEL_9ed76b8dfaa141c1af40609b8ae7c998",
            "placeholder": "​",
            "style": "IPY_MODEL_5206f025b43b4c8baeba94f23d6939cd",
            "value": " 410M/410M [00:08&lt;00:00, 56.5MB/s]"
          }
        },
        "4e92e2f1edb741b8936d3082e3765e51": {
          "model_module": "@jupyter-widgets/base",
          "model_name": "LayoutModel",
          "model_module_version": "1.2.0",
          "state": {
            "_model_module": "@jupyter-widgets/base",
            "_model_module_version": "1.2.0",
            "_model_name": "LayoutModel",
            "_view_count": null,
            "_view_module": "@jupyter-widgets/base",
            "_view_module_version": "1.2.0",
            "_view_name": "LayoutView",
            "align_content": null,
            "align_items": null,
            "align_self": null,
            "border": null,
            "bottom": null,
            "display": null,
            "flex": null,
            "flex_flow": null,
            "grid_area": null,
            "grid_auto_columns": null,
            "grid_auto_flow": null,
            "grid_auto_rows": null,
            "grid_column": null,
            "grid_gap": null,
            "grid_row": null,
            "grid_template_areas": null,
            "grid_template_columns": null,
            "grid_template_rows": null,
            "height": null,
            "justify_content": null,
            "justify_items": null,
            "left": null,
            "margin": null,
            "max_height": null,
            "max_width": null,
            "min_height": null,
            "min_width": null,
            "object_fit": null,
            "object_position": null,
            "order": null,
            "overflow": null,
            "overflow_x": null,
            "overflow_y": null,
            "padding": null,
            "right": null,
            "top": null,
            "visibility": null,
            "width": null
          }
        },
        "4d4006828fda44d5940b4183b9fc98ef": {
          "model_module": "@jupyter-widgets/base",
          "model_name": "LayoutModel",
          "model_module_version": "1.2.0",
          "state": {
            "_model_module": "@jupyter-widgets/base",
            "_model_module_version": "1.2.0",
            "_model_name": "LayoutModel",
            "_view_count": null,
            "_view_module": "@jupyter-widgets/base",
            "_view_module_version": "1.2.0",
            "_view_name": "LayoutView",
            "align_content": null,
            "align_items": null,
            "align_self": null,
            "border": null,
            "bottom": null,
            "display": null,
            "flex": null,
            "flex_flow": null,
            "grid_area": null,
            "grid_auto_columns": null,
            "grid_auto_flow": null,
            "grid_auto_rows": null,
            "grid_column": null,
            "grid_gap": null,
            "grid_row": null,
            "grid_template_areas": null,
            "grid_template_columns": null,
            "grid_template_rows": null,
            "height": null,
            "justify_content": null,
            "justify_items": null,
            "left": null,
            "margin": null,
            "max_height": null,
            "max_width": null,
            "min_height": null,
            "min_width": null,
            "object_fit": null,
            "object_position": null,
            "order": null,
            "overflow": null,
            "overflow_x": null,
            "overflow_y": null,
            "padding": null,
            "right": null,
            "top": null,
            "visibility": null,
            "width": null
          }
        },
        "dc43ac473bec47929f422bf754ad27ab": {
          "model_module": "@jupyter-widgets/controls",
          "model_name": "DescriptionStyleModel",
          "model_module_version": "1.5.0",
          "state": {
            "_model_module": "@jupyter-widgets/controls",
            "_model_module_version": "1.5.0",
            "_model_name": "DescriptionStyleModel",
            "_view_count": null,
            "_view_module": "@jupyter-widgets/base",
            "_view_module_version": "1.2.0",
            "_view_name": "StyleView",
            "description_width": ""
          }
        },
        "6a4164d057d5405389884709c7a2b644": {
          "model_module": "@jupyter-widgets/base",
          "model_name": "LayoutModel",
          "model_module_version": "1.2.0",
          "state": {
            "_model_module": "@jupyter-widgets/base",
            "_model_module_version": "1.2.0",
            "_model_name": "LayoutModel",
            "_view_count": null,
            "_view_module": "@jupyter-widgets/base",
            "_view_module_version": "1.2.0",
            "_view_name": "LayoutView",
            "align_content": null,
            "align_items": null,
            "align_self": null,
            "border": null,
            "bottom": null,
            "display": null,
            "flex": null,
            "flex_flow": null,
            "grid_area": null,
            "grid_auto_columns": null,
            "grid_auto_flow": null,
            "grid_auto_rows": null,
            "grid_column": null,
            "grid_gap": null,
            "grid_row": null,
            "grid_template_areas": null,
            "grid_template_columns": null,
            "grid_template_rows": null,
            "height": null,
            "justify_content": null,
            "justify_items": null,
            "left": null,
            "margin": null,
            "max_height": null,
            "max_width": null,
            "min_height": null,
            "min_width": null,
            "object_fit": null,
            "object_position": null,
            "order": null,
            "overflow": null,
            "overflow_x": null,
            "overflow_y": null,
            "padding": null,
            "right": null,
            "top": null,
            "visibility": null,
            "width": null
          }
        },
        "7760c201a7e44aaf8c6dcd7c50efd5b4": {
          "model_module": "@jupyter-widgets/controls",
          "model_name": "ProgressStyleModel",
          "model_module_version": "1.5.0",
          "state": {
            "_model_module": "@jupyter-widgets/controls",
            "_model_module_version": "1.5.0",
            "_model_name": "ProgressStyleModel",
            "_view_count": null,
            "_view_module": "@jupyter-widgets/base",
            "_view_module_version": "1.2.0",
            "_view_name": "StyleView",
            "bar_color": null,
            "description_width": ""
          }
        },
        "9ed76b8dfaa141c1af40609b8ae7c998": {
          "model_module": "@jupyter-widgets/base",
          "model_name": "LayoutModel",
          "model_module_version": "1.2.0",
          "state": {
            "_model_module": "@jupyter-widgets/base",
            "_model_module_version": "1.2.0",
            "_model_name": "LayoutModel",
            "_view_count": null,
            "_view_module": "@jupyter-widgets/base",
            "_view_module_version": "1.2.0",
            "_view_name": "LayoutView",
            "align_content": null,
            "align_items": null,
            "align_self": null,
            "border": null,
            "bottom": null,
            "display": null,
            "flex": null,
            "flex_flow": null,
            "grid_area": null,
            "grid_auto_columns": null,
            "grid_auto_flow": null,
            "grid_auto_rows": null,
            "grid_column": null,
            "grid_gap": null,
            "grid_row": null,
            "grid_template_areas": null,
            "grid_template_columns": null,
            "grid_template_rows": null,
            "height": null,
            "justify_content": null,
            "justify_items": null,
            "left": null,
            "margin": null,
            "max_height": null,
            "max_width": null,
            "min_height": null,
            "min_width": null,
            "object_fit": null,
            "object_position": null,
            "order": null,
            "overflow": null,
            "overflow_x": null,
            "overflow_y": null,
            "padding": null,
            "right": null,
            "top": null,
            "visibility": null,
            "width": null
          }
        },
        "5206f025b43b4c8baeba94f23d6939cd": {
          "model_module": "@jupyter-widgets/controls",
          "model_name": "DescriptionStyleModel",
          "model_module_version": "1.5.0",
          "state": {
            "_model_module": "@jupyter-widgets/controls",
            "_model_module_version": "1.5.0",
            "_model_name": "DescriptionStyleModel",
            "_view_count": null,
            "_view_module": "@jupyter-widgets/base",
            "_view_module_version": "1.2.0",
            "_view_name": "StyleView",
            "description_width": ""
          }
        }
      }
    }
  },
  "nbformat": 4,
  "nbformat_minor": 0
}