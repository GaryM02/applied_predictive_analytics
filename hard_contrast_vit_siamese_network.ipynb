{
  "nbformat": 4,
  "nbformat_minor": 0,
  "metadata": {
    "colab": {
      "provenance": [],
      "gpuType": "T4",
      "authorship_tag": "ABX9TyOyoH9dJfpVQLhVVFXiTdqI",
      "include_colab_link": true
    },
    "kernelspec": {
      "name": "python3",
      "display_name": "Python 3"
    },
    "language_info": {
      "name": "python"
    },
    "accelerator": "GPU",
    "widgets": {
      "application/vnd.jupyter.widget-state+json": {
        "f4ffdac8fe3b4ddba4db0b26835808b7": {
          "model_module": "@jupyter-widgets/controls",
          "model_name": "HBoxModel",
          "model_module_version": "1.5.0",
          "state": {
            "_dom_classes": [],
            "_model_module": "@jupyter-widgets/controls",
            "_model_module_version": "1.5.0",
            "_model_name": "HBoxModel",
            "_view_count": null,
            "_view_module": "@jupyter-widgets/controls",
            "_view_module_version": "1.5.0",
            "_view_name": "HBoxView",
            "box_style": "",
            "children": [
              "IPY_MODEL_7b583f7ae0164c63bce666171d0feb2e",
              "IPY_MODEL_52fb03c13f8e4b209ee387287ae6ff1b",
              "IPY_MODEL_acae11f209cc4763b0bab57947967954"
            ],
            "layout": "IPY_MODEL_6d11b251b5124c8b952f81fc3f6f42d3"
          }
        },
        "7b583f7ae0164c63bce666171d0feb2e": {
          "model_module": "@jupyter-widgets/controls",
          "model_name": "HTMLModel",
          "model_module_version": "1.5.0",
          "state": {
            "_dom_classes": [],
            "_model_module": "@jupyter-widgets/controls",
            "_model_module_version": "1.5.0",
            "_model_name": "HTMLModel",
            "_view_count": null,
            "_view_module": "@jupyter-widgets/controls",
            "_view_module_version": "1.5.0",
            "_view_name": "HTMLView",
            "description": "",
            "description_tooltip": null,
            "layout": "IPY_MODEL_25cc733d6ce34270a12f7dc5e971aa51",
            "placeholder": "​",
            "style": "IPY_MODEL_818353b4f2a54e4a9fae08f3ef8c4eb0",
            "value": "model.safetensors: 100%"
          }
        },
        "52fb03c13f8e4b209ee387287ae6ff1b": {
          "model_module": "@jupyter-widgets/controls",
          "model_name": "FloatProgressModel",
          "model_module_version": "1.5.0",
          "state": {
            "_dom_classes": [],
            "_model_module": "@jupyter-widgets/controls",
            "_model_module_version": "1.5.0",
            "_model_name": "FloatProgressModel",
            "_view_count": null,
            "_view_module": "@jupyter-widgets/controls",
            "_view_module_version": "1.5.0",
            "_view_name": "ProgressView",
            "bar_style": "success",
            "description": "",
            "description_tooltip": null,
            "layout": "IPY_MODEL_820b837bd615497c8a81f1077d418d52",
            "max": 410397786,
            "min": 0,
            "orientation": "horizontal",
            "style": "IPY_MODEL_12c276dddcea440cac94ada261161209",
            "value": 410397786
          }
        },
        "acae11f209cc4763b0bab57947967954": {
          "model_module": "@jupyter-widgets/controls",
          "model_name": "HTMLModel",
          "model_module_version": "1.5.0",
          "state": {
            "_dom_classes": [],
            "_model_module": "@jupyter-widgets/controls",
            "_model_module_version": "1.5.0",
            "_model_name": "HTMLModel",
            "_view_count": null,
            "_view_module": "@jupyter-widgets/controls",
            "_view_module_version": "1.5.0",
            "_view_name": "HTMLView",
            "description": "",
            "description_tooltip": null,
            "layout": "IPY_MODEL_ab0da562263f4f35aa2626f1b937b3cd",
            "placeholder": "​",
            "style": "IPY_MODEL_35aeffc3aeaf43dbacd3b72cff73aa4f",
            "value": " 410M/410M [00:07&lt;00:00, 65.0MB/s]"
          }
        },
        "6d11b251b5124c8b952f81fc3f6f42d3": {
          "model_module": "@jupyter-widgets/base",
          "model_name": "LayoutModel",
          "model_module_version": "1.2.0",
          "state": {
            "_model_module": "@jupyter-widgets/base",
            "_model_module_version": "1.2.0",
            "_model_name": "LayoutModel",
            "_view_count": null,
            "_view_module": "@jupyter-widgets/base",
            "_view_module_version": "1.2.0",
            "_view_name": "LayoutView",
            "align_content": null,
            "align_items": null,
            "align_self": null,
            "border": null,
            "bottom": null,
            "display": null,
            "flex": null,
            "flex_flow": null,
            "grid_area": null,
            "grid_auto_columns": null,
            "grid_auto_flow": null,
            "grid_auto_rows": null,
            "grid_column": null,
            "grid_gap": null,
            "grid_row": null,
            "grid_template_areas": null,
            "grid_template_columns": null,
            "grid_template_rows": null,
            "height": null,
            "justify_content": null,
            "justify_items": null,
            "left": null,
            "margin": null,
            "max_height": null,
            "max_width": null,
            "min_height": null,
            "min_width": null,
            "object_fit": null,
            "object_position": null,
            "order": null,
            "overflow": null,
            "overflow_x": null,
            "overflow_y": null,
            "padding": null,
            "right": null,
            "top": null,
            "visibility": null,
            "width": null
          }
        },
        "25cc733d6ce34270a12f7dc5e971aa51": {
          "model_module": "@jupyter-widgets/base",
          "model_name": "LayoutModel",
          "model_module_version": "1.2.0",
          "state": {
            "_model_module": "@jupyter-widgets/base",
            "_model_module_version": "1.2.0",
            "_model_name": "LayoutModel",
            "_view_count": null,
            "_view_module": "@jupyter-widgets/base",
            "_view_module_version": "1.2.0",
            "_view_name": "LayoutView",
            "align_content": null,
            "align_items": null,
            "align_self": null,
            "border": null,
            "bottom": null,
            "display": null,
            "flex": null,
            "flex_flow": null,
            "grid_area": null,
            "grid_auto_columns": null,
            "grid_auto_flow": null,
            "grid_auto_rows": null,
            "grid_column": null,
            "grid_gap": null,
            "grid_row": null,
            "grid_template_areas": null,
            "grid_template_columns": null,
            "grid_template_rows": null,
            "height": null,
            "justify_content": null,
            "justify_items": null,
            "left": null,
            "margin": null,
            "max_height": null,
            "max_width": null,
            "min_height": null,
            "min_width": null,
            "object_fit": null,
            "object_position": null,
            "order": null,
            "overflow": null,
            "overflow_x": null,
            "overflow_y": null,
            "padding": null,
            "right": null,
            "top": null,
            "visibility": null,
            "width": null
          }
        },
        "818353b4f2a54e4a9fae08f3ef8c4eb0": {
          "model_module": "@jupyter-widgets/controls",
          "model_name": "DescriptionStyleModel",
          "model_module_version": "1.5.0",
          "state": {
            "_model_module": "@jupyter-widgets/controls",
            "_model_module_version": "1.5.0",
            "_model_name": "DescriptionStyleModel",
            "_view_count": null,
            "_view_module": "@jupyter-widgets/base",
            "_view_module_version": "1.2.0",
            "_view_name": "StyleView",
            "description_width": ""
          }
        },
        "820b837bd615497c8a81f1077d418d52": {
          "model_module": "@jupyter-widgets/base",
          "model_name": "LayoutModel",
          "model_module_version": "1.2.0",
          "state": {
            "_model_module": "@jupyter-widgets/base",
            "_model_module_version": "1.2.0",
            "_model_name": "LayoutModel",
            "_view_count": null,
            "_view_module": "@jupyter-widgets/base",
            "_view_module_version": "1.2.0",
            "_view_name": "LayoutView",
            "align_content": null,
            "align_items": null,
            "align_self": null,
            "border": null,
            "bottom": null,
            "display": null,
            "flex": null,
            "flex_flow": null,
            "grid_area": null,
            "grid_auto_columns": null,
            "grid_auto_flow": null,
            "grid_auto_rows": null,
            "grid_column": null,
            "grid_gap": null,
            "grid_row": null,
            "grid_template_areas": null,
            "grid_template_columns": null,
            "grid_template_rows": null,
            "height": null,
            "justify_content": null,
            "justify_items": null,
            "left": null,
            "margin": null,
            "max_height": null,
            "max_width": null,
            "min_height": null,
            "min_width": null,
            "object_fit": null,
            "object_position": null,
            "order": null,
            "overflow": null,
            "overflow_x": null,
            "overflow_y": null,
            "padding": null,
            "right": null,
            "top": null,
            "visibility": null,
            "width": null
          }
        },
        "12c276dddcea440cac94ada261161209": {
          "model_module": "@jupyter-widgets/controls",
          "model_name": "ProgressStyleModel",
          "model_module_version": "1.5.0",
          "state": {
            "_model_module": "@jupyter-widgets/controls",
            "_model_module_version": "1.5.0",
            "_model_name": "ProgressStyleModel",
            "_view_count": null,
            "_view_module": "@jupyter-widgets/base",
            "_view_module_version": "1.2.0",
            "_view_name": "StyleView",
            "bar_color": null,
            "description_width": ""
          }
        },
        "ab0da562263f4f35aa2626f1b937b3cd": {
          "model_module": "@jupyter-widgets/base",
          "model_name": "LayoutModel",
          "model_module_version": "1.2.0",
          "state": {
            "_model_module": "@jupyter-widgets/base",
            "_model_module_version": "1.2.0",
            "_model_name": "LayoutModel",
            "_view_count": null,
            "_view_module": "@jupyter-widgets/base",
            "_view_module_version": "1.2.0",
            "_view_name": "LayoutView",
            "align_content": null,
            "align_items": null,
            "align_self": null,
            "border": null,
            "bottom": null,
            "display": null,
            "flex": null,
            "flex_flow": null,
            "grid_area": null,
            "grid_auto_columns": null,
            "grid_auto_flow": null,
            "grid_auto_rows": null,
            "grid_column": null,
            "grid_gap": null,
            "grid_row": null,
            "grid_template_areas": null,
            "grid_template_columns": null,
            "grid_template_rows": null,
            "height": null,
            "justify_content": null,
            "justify_items": null,
            "left": null,
            "margin": null,
            "max_height": null,
            "max_width": null,
            "min_height": null,
            "min_width": null,
            "object_fit": null,
            "object_position": null,
            "order": null,
            "overflow": null,
            "overflow_x": null,
            "overflow_y": null,
            "padding": null,
            "right": null,
            "top": null,
            "visibility": null,
            "width": null
          }
        },
        "35aeffc3aeaf43dbacd3b72cff73aa4f": {
          "model_module": "@jupyter-widgets/controls",
          "model_name": "DescriptionStyleModel",
          "model_module_version": "1.5.0",
          "state": {
            "_model_module": "@jupyter-widgets/controls",
            "_model_module_version": "1.5.0",
            "_model_name": "DescriptionStyleModel",
            "_view_count": null,
            "_view_module": "@jupyter-widgets/base",
            "_view_module_version": "1.2.0",
            "_view_name": "StyleView",
            "description_width": ""
          }
        }
      }
    }
  },
  "cells": [
    {
      "cell_type": "markdown",
      "metadata": {
        "id": "view-in-github",
        "colab_type": "text"
      },
      "source": [
        "<a href=\"https://colab.research.google.com/github/GaryM02/applied_predictive_analytics/blob/main/hard_contrast_vit_siamese_network.ipynb\" target=\"_parent\"><img src=\"https://colab.research.google.com/assets/colab-badge.svg\" alt=\"Open In Colab\"/></a>"
      ]
    },
    {
      "cell_type": "code",
      "source": [
        "import torch\n",
        "import torch.nn as nn\n",
        "import torch.nn.functional as F\n",
        "import timm  # For using pre-trained models\n",
        "import os\n",
        "import random\n",
        "from torchvision import datasets, transforms\n",
        "from torch.utils.data import Dataset, DataLoader\n",
        "from PIL import Image\n",
        "from tqdm import tqdm\n",
        "import gc\n",
        "import matplotlib.pyplot as plt\n",
        "import seaborn as sns\n",
        "from sklearn.metrics import f1_score, confusion_matrix, classification_report\n",
        "from torch.cuda.amp import GradScaler, autocast\n",
        "import torch.multiprocessing as mp"
      ],
      "metadata": {
        "id": "ZOA8hf5xqeXg"
      },
      "execution_count": null,
      "outputs": []
    },
    {
      "cell_type": "code",
      "source": [
        "from google.colab import drive\n",
        "drive.mount('/content/drive')\n",
        "os.chdir('/content/drive/MyDrive/Colab Notebooks/PredictiveAnalyticsProject')"
      ],
      "metadata": {
        "colab": {
          "base_uri": "https://localhost:8080/"
        },
        "id": "cuWDVhI0qYl-",
        "outputId": "df820452-b6e5-4496-c379-1fd85f7fb6dc"
      },
      "execution_count": null,
      "outputs": [
        {
          "output_type": "stream",
          "name": "stdout",
          "text": [
            "Mounted at /content/drive\n"
          ]
        }
      ]
    },
    {
      "cell_type": "code",
      "source": [
        "class TripletDataset(Dataset):\n",
        "    def __init__(self, root_dir, model, device='cuda', transform=None, num_images_per_class=10, triplet_fraction=1.0):\n",
        "        \"\"\"\n",
        "        Dataset with precomputed embeddings for hard positive and negative mining.\n",
        "\n",
        "        Args:\n",
        "            root_dir (str): Root directory with class folders.\n",
        "            model (nn.Module): Pretrained model for computing embeddings.\n",
        "            device (str): Device for embedding computation (e.g., 'cuda' or 'cpu').\n",
        "            transform (callable, optional): Transformations for the images.\n",
        "            num_images_per_class (int): Max images per class.\n",
        "            triplet_fraction (float): Fraction of total triplets to sample.\n",
        "        \"\"\"\n",
        "        if not os.path.exists(root_dir):\n",
        "            raise ValueError(f\"Root directory {root_dir} does not exist.\")\n",
        "        if len(os.listdir(root_dir)) == 0:\n",
        "            raise ValueError(f\"Root directory {root_dir} is empty.\")\n",
        "\n",
        "        self.root_dir = root_dir\n",
        "        self.model = model\n",
        "        self.device = device\n",
        "        self.transform = transform\n",
        "        self.num_images_per_class = num_images_per_class\n",
        "        self.triplet_fraction = triplet_fraction\n",
        "\n",
        "        # Precompute class-to-image mappings\n",
        "        self.class_to_images = {}\n",
        "        for class_name in os.listdir(root_dir):\n",
        "            class_path = os.path.join(root_dir, class_name)\n",
        "            if os.path.isdir(class_path):\n",
        "                images = [os.path.join(class_path, f) for f in os.listdir(class_path) if os.path.isfile(os.path.join(class_path, f))]\n",
        "                if len(images) >= 2:  # Ensure at least two images per class\n",
        "                    random.shuffle(images)\n",
        "                    self.class_to_images[class_name] = images[:self.num_images_per_class]\n",
        "\n",
        "        self.classes = list(self.class_to_images.keys())\n",
        "        self.class_negatives = {\n",
        "            class_name: [cls for cls in self.classes if cls != class_name]\n",
        "            for class_name in self.classes\n",
        "        }\n",
        "\n",
        "        # Precompute embeddings\n",
        "        print(\"Precomputing embeddings for all images...\")\n",
        "        self.image_to_embedding = self.compute_embeddings()\n",
        "\n",
        "    def compute_embeddings(self):\n",
        "        \"\"\"\n",
        "        Compute embeddings for all images and store in a dictionary.\n",
        "\n",
        "        Returns:\n",
        "            dict: Mapping from image paths to embeddings.\n",
        "        \"\"\"\n",
        "        self.model.eval()\n",
        "        image_to_embedding = {}\n",
        "\n",
        "        with torch.no_grad():\n",
        "            for class_name, images in tqdm(self.class_to_images.items(), desc=\"Embedding Images\"):\n",
        "                for image_path in images:\n",
        "                    image = self.load_image(image_path).unsqueeze(0).to(self.device)\n",
        "                    embedding = self.model(image).squeeze(0).cpu()\n",
        "                    image_to_embedding[image_path] = embedding\n",
        "\n",
        "        return image_to_embedding\n",
        "\n",
        "    def __len__(self):\n",
        "        return int(self.calculate_total_triplets(len(self.classes), self.num_images_per_class) * self.triplet_fraction)\n",
        "\n",
        "    def calculate_total_triplets(self, num_classes, num_images_per_class):\n",
        "        \"\"\"\n",
        "        Calculate the total number of triplets for metric learning.\n",
        "\n",
        "        Args:\n",
        "            num_classes (int): Number of classes (C).\n",
        "            num_images_per_class (int): Number of images per class (N).\n",
        "\n",
        "        Returns:\n",
        "            int: Total number of triplets (T).\n",
        "        \"\"\"\n",
        "        # For one class: Anchor-positive pairs (within class) * negatives (from other classes)\n",
        "        anchor_positive_pairs = (num_images_per_class * (num_images_per_class - 1)) // 2\n",
        "        negatives_per_pair = (num_classes - 1) * num_images_per_class\n",
        "\n",
        "        # Total triplets across all classes\n",
        "        total_triplets = num_classes * anchor_positive_pairs * negatives_per_pair\n",
        "        return total_triplets\n",
        "\n",
        "    def __getitem__(self, index):\n",
        "        # Select a random anchor class and image\n",
        "        anchor_class = random.choice(self.classes)\n",
        "        anchor_images = self.class_to_images[anchor_class]\n",
        "        anchor_path = random.choice(anchor_images)\n",
        "\n",
        "        # Retrieve anchor embedding\n",
        "        anchor_embedding = self.image_to_embedding[anchor_path]\n",
        "\n",
        "        # Hard positive mining\n",
        "        positive_path = self.select_hard_positive(anchor_path, anchor_images, anchor_embedding)\n",
        "\n",
        "        # Hard negative mining\n",
        "        negative_class = random.choice(self.class_negatives[anchor_class])\n",
        "        negative_path = self.select_hard_negative(anchor_embedding, self.class_to_images[negative_class])\n",
        "\n",
        "        # Load positive and negative images\n",
        "        positive_image = self.load_image(positive_path)\n",
        "        negative_image = self.load_image(negative_path)\n",
        "\n",
        "        return self.load_image(anchor_path), positive_image, negative_image\n",
        "\n",
        "    def select_hard_positive(self, anchor_path, class_images, anchor_embedding):\n",
        "        \"\"\"Select the hardest positive sample based on precomputed embeddings.\"\"\"\n",
        "        hardest_positive = None\n",
        "        max_distance = -float(\"inf\")\n",
        "\n",
        "        for positive_path in class_images:\n",
        "            if positive_path == anchor_path:\n",
        "                continue\n",
        "            positive_embedding = self.image_to_embedding[positive_path]\n",
        "            distance = F.pairwise_distance(anchor_embedding.unsqueeze(0), positive_embedding.unsqueeze(0)).item()\n",
        "            if distance > max_distance:\n",
        "                max_distance = distance\n",
        "                hardest_positive = positive_path\n",
        "\n",
        "        return hardest_positive\n",
        "\n",
        "    def select_hard_negative(self, anchor_embedding, negative_images):\n",
        "        \"\"\"Select the hardest negative sample based on precomputed embeddings.\"\"\"\n",
        "        hardest_negative = None\n",
        "        min_distance = float(\"inf\")\n",
        "\n",
        "        for negative_path in negative_images:\n",
        "            negative_embedding = self.image_to_embedding[negative_path]\n",
        "            distance = F.pairwise_distance(anchor_embedding.unsqueeze(0), negative_embedding.unsqueeze(0)).item()\n",
        "            if distance < min_distance:\n",
        "                min_distance = distance\n",
        "                hardest_negative = negative_path\n",
        "\n",
        "        return hardest_negative\n",
        "\n",
        "    def load_image(self, image_path):\n",
        "        \"\"\"Load an image and apply the transform if provided.\"\"\"\n",
        "        image = Image.open(image_path).convert(\"RGB\")\n",
        "        if self.transform:\n",
        "            image = self.transform(image)\n",
        "        return image\n",
        "\n",
        "\n",
        "\n",
        "class SiameseNetwork(nn.Module):\n",
        "    def __init__(self, backbone_name=None):\n",
        "        \"\"\"\n",
        "        Siamese network with a single backbone.\n",
        "\n",
        "        Args:\n",
        "            backbone1_name (str): Name of the backbone (e.g., 'resnet50').\n",
        "            embedding_dim (int): Dimension of the output embeddings.\n",
        "        \"\"\"\n",
        "        super(SiameseNetwork, self).__init__()\n",
        "\n",
        "        # Initialize backbone 1 if provided\n",
        "        if backbone_name:\n",
        "            self.backbone = timm.create_model(backbone_name, pretrained=True)\n",
        "            self.backbone.reset_classifier(0)  # Remove classification head\n",
        "        else:\n",
        "            raise ValueError(\"A backbone model must be specified.\")\n",
        "\n",
        "    def forward(self, input1, input2=None, input3=None):\n",
        "        \"\"\"\n",
        "        Forward pass for one, two, or three inputs.\n",
        "\n",
        "        Args:\n",
        "            input1 (torch.Tensor): Anchor input.\n",
        "            input2 (torch.Tensor, optional): Positive input.\n",
        "            input3 (torch.Tensor, optional): Negative input.\n",
        "\n",
        "        Returns:\n",
        "            Embeddings (torch.Tensor): Embedding of the input(s).\n",
        "        \"\"\"\n",
        "\n",
        "\n",
        "        if input2 is None and input3 is None:\n",
        "            return self.backbone(input1)\n",
        "\n",
        "        if input3 is None:\n",
        "            return self.backbone(input1), self.backbone(input2)\n",
        "\n",
        "        return self.backbone(input1), self.backbone(input2), self.backbone(input3)\n",
        "\n",
        "\n",
        "class TripletLoss(nn.Module):\n",
        "    def __init__(self, margin=1.0):\n",
        "        super(TripletLoss, self).__init__()\n",
        "        self.margin = margin\n",
        "\n",
        "    def forward(self, anchor, positive, negative):\n",
        "        positive_distance = F.pairwise_distance(anchor, positive)\n",
        "        negative_distance = F.pairwise_distance(anchor, negative)\n",
        "        loss = torch.mean(F.relu(positive_distance - negative_distance + self.margin))\n",
        "        return loss\n",
        "\n",
        "\n",
        "# Data Loading\n",
        "def load_data(batch_size=32, triplet_fraction=1.0, num_train_images_per_class=20, num_val_images_per_class=4, model=None):\n",
        "    train_transform = transforms.Compose([\n",
        "        transforms.RandomResizedCrop(224),\n",
        "        transforms.RandomHorizontalFlip(),\n",
        "        transforms.ColorJitter(brightness=0.2, contrast=0.2, saturation=0.2, hue=0.1),\n",
        "        transforms.RandomRotation(10),\n",
        "        transforms.ToTensor(),\n",
        "        transforms.Normalize(mean=[0.5, 0.5, 0.5], std=[0.5, 0.5, 0.5])\n",
        "    ])\n",
        "    val_transform = transforms.Compose([\n",
        "        transforms.Resize((224, 224)),\n",
        "        transforms.ToTensor(),\n",
        "        transforms.Normalize(mean=[0.5, 0.5, 0.5], std=[0.5, 0.5, 0.5])\n",
        "    ])\n",
        "    train_dataset = TripletDataset(\n",
        "        root_dir='data/train',\n",
        "        transform=train_transform,\n",
        "        num_images_per_class=num_train_images_per_class,\n",
        "        triplet_fraction=triplet_fraction,\n",
        "        model=model,  # Pass the pretrained or partially trained model\n",
        "        device=device,\n",
        "    )\n",
        "    val_dataset = TripletDataset(root_dir='data/validation', transform=val_transform, num_images_per_class=num_val_images_per_class, triplet_fraction=triplet_fraction, model=model, device=device)\n",
        "    train_loader = DataLoader(train_dataset, batch_size=batch_size, shuffle=True, num_workers=6, pin_memory=True)\n",
        "    val_loader = DataLoader(val_dataset, batch_size=batch_size, num_workers=6, pin_memory=True)\n",
        "    return train_loader, val_loader\n",
        "\n",
        "# Save model state for resume training\n",
        "def save_checkpoint(model, optimizer, epoch, val_loss, filepath):\n",
        "    checkpoint = {\n",
        "        'model_state_dict': model.state_dict(),\n",
        "        'optimizer_state_dict': optimizer.state_dict(),\n",
        "        'epoch': epoch,\n",
        "        'val_loss': val_loss\n",
        "    }\n",
        "    torch.save(checkpoint, filepath)\n",
        "\n",
        "# Load model state for resuming training\n",
        "def load_checkpoint(filepath, model, optimizer):\n",
        "    checkpoint = torch.load(filepath)\n",
        "    model.load_state_dict(checkpoint['model_state_dict'])\n",
        "    optimizer.load_state_dict(checkpoint['optimizer_state_dict'])\n",
        "    epoch = checkpoint['epoch']\n",
        "    val_loss = checkpoint['val_loss']\n",
        "    return model, optimizer, epoch, val_loss\n",
        "\n",
        "# Train one epoch\n",
        "def train_one_epoch(model, loader, criterion, optimizer, scaler, device):\n",
        "    model.train()\n",
        "    running_loss = 0.0\n",
        "    all_labels, all_predictions = [], []\n",
        "\n",
        "    progress = tqdm(loader, desc=\"Training\", leave=False)\n",
        "    # Loop over batches\n",
        "    for anchor, positive, negative in progress:\n",
        "        # Move data to device\n",
        "        anchor, positive, negative = anchor.to(device), positive.to(device), negative.to(device)\n",
        "\n",
        "        with autocast():\n",
        "            # Forward pass\n",
        "            anchor_output, positive_output, negative_output = model(anchor, positive, negative)\n",
        "\n",
        "            # Compute loss\n",
        "            loss = criterion(anchor_output, positive_output, negative_output)\n",
        "\n",
        "        scaler.scale(loss).backward()\n",
        "        scaler.step(optimizer)\n",
        "        scaler.update()\n",
        "        optimizer.zero_grad()\n",
        "\n",
        "        running_loss += loss.item()\n",
        "\n",
        "    avg_loss = running_loss / len(loader)\n",
        "    return avg_loss\n",
        "\n",
        "# Validate the model\n",
        "def validate_model(model, loader, criterion, device):\n",
        "    model.eval()\n",
        "    running_loss = 0.0\n",
        "\n",
        "    with torch.no_grad():\n",
        "        # Loop over batches\n",
        "        for anchor, positive, negative in tqdm(loader, desc=\"Validation\", leave=False):\n",
        "            # Move data to device\n",
        "            anchor, positive, negative = anchor.to(device), positive.to(device), negative.to(device)\n",
        "\n",
        "            with autocast():\n",
        "                # Forward pass\n",
        "                anchor_output, positive_output, negative_output = model(anchor, positive, negative)\n",
        "\n",
        "                # Compute loss\n",
        "                loss = criterion(anchor_output, positive_output, negative_output)\n",
        "\n",
        "            running_loss += loss.item()\n",
        "\n",
        "    avg_loss = running_loss / len(loader)\n",
        "    return avg_loss\n",
        "\n",
        "# Plot metrics\n",
        "def plot_metrics(metrics):\n",
        "    plt.figure(figsize=(10, 5))\n",
        "    for key, values in metrics.items():\n",
        "        plt.plot(values, label=key)\n",
        "    plt.legend()\n",
        "    plt.show()\n",
        "\n",
        "# Training Loop\n",
        "def train_model(model, train_loader, val_loader, criterion, optimizer, scheduler, scaler, device, resume_path=None):\n",
        "    num_epochs = 50\n",
        "    early_stopping_patience = 15\n",
        "    early_stopping_counter = 0\n",
        "    curr_val_loss = 1.0\n",
        "    metrics = {\"train_loss\": [], \"val_loss\": []}\n",
        "    start_epoch = 0\n",
        "\n",
        "    # Resume training if a checkpoint is provided\n",
        "    if resume_path:\n",
        "        model, optimizer, start_epoch, val_loss = load_checkpoint(resume_path, model, optimizer)\n",
        "        print(f\"Resumed training from epoch {start_epoch} with best Val Loss: {val_loss:.4f}, lr: {optimizer.param_groups[0]['lr']}\")\n",
        "\n",
        "    for epoch in range(start_epoch, num_epochs):\n",
        "        print(f\"Epoch {epoch+1}/{num_epochs}\")\n",
        "        train_loss = train_one_epoch(model, train_loader, criterion, optimizer, scaler, device)\n",
        "        val_loss = validate_model(model, val_loader, criterion, device)\n",
        "\n",
        "        metrics[\"train_loss\"].append(train_loss)\n",
        "        metrics[\"val_loss\"].append(val_loss)\n",
        "\n",
        "        print(f\"Train Loss: {train_loss:.4f}\")\n",
        "        print(f\"Val Loss: {val_loss:.4f}\")\n",
        "\n",
        "        scheduler.step(val_loss)\n",
        "\n",
        "        # Save the best model\n",
        "        if val_loss < curr_val_loss:\n",
        "            curr_val_loss = val_loss\n",
        "            save_checkpoint(model, optimizer, epoch, curr_val_loss, \"hard_contrast_vit_siamese_best_model.pth\")\n",
        "            early_stopping_counter = 0\n",
        "        else:\n",
        "            early_stopping_counter += 1\n",
        "\n",
        "        # Early stopping\n",
        "        if early_stopping_counter >= early_stopping_patience:\n",
        "            print(\"Early stopping triggered.\")\n",
        "            break\n",
        "\n",
        "    plot_metrics(metrics)"
      ],
      "metadata": {
        "id": "qjNOTXBCgsLl"
      },
      "execution_count": null,
      "outputs": []
    },
    {
      "cell_type": "code",
      "source": [
        "# Set device\n",
        "device = torch.device('cuda' if torch.cuda.is_available() else 'cpu')\n",
        "\n",
        "# Initialize model\n",
        "model = SiameseNetwork(\n",
        "    backbone_name=\"vit_base_patch16_224_in21k\",\n",
        ").to(device)\n",
        "\n",
        "checkpoint = torch.load(\"siamese_best_model.pth\")\n",
        "model.load_state_dict(checkpoint['model_state_dict'])"
      ],
      "metadata": {
        "id": "BhrDfDyClDaz",
        "colab": {
          "base_uri": "https://localhost:8080/",
          "height": 265,
          "referenced_widgets": [
            "f4ffdac8fe3b4ddba4db0b26835808b7",
            "7b583f7ae0164c63bce666171d0feb2e",
            "52fb03c13f8e4b209ee387287ae6ff1b",
            "acae11f209cc4763b0bab57947967954",
            "6d11b251b5124c8b952f81fc3f6f42d3",
            "25cc733d6ce34270a12f7dc5e971aa51",
            "818353b4f2a54e4a9fae08f3ef8c4eb0",
            "820b837bd615497c8a81f1077d418d52",
            "12c276dddcea440cac94ada261161209",
            "ab0da562263f4f35aa2626f1b937b3cd",
            "35aeffc3aeaf43dbacd3b72cff73aa4f"
          ]
        },
        "outputId": "7ab09e6b-4954-4235-f6b6-bb29078b7c64"
      },
      "execution_count": null,
      "outputs": [
        {
          "output_type": "stream",
          "name": "stderr",
          "text": [
            "/usr/local/lib/python3.10/dist-packages/timm/models/_factory.py:117: UserWarning: Mapping deprecated model name vit_base_patch16_224_in21k to current vit_base_patch16_224.augreg_in21k.\n",
            "  model = create_fn(\n",
            "/usr/local/lib/python3.10/dist-packages/huggingface_hub/utils/_auth.py:94: UserWarning: \n",
            "The secret `HF_TOKEN` does not exist in your Colab secrets.\n",
            "To authenticate with the Hugging Face Hub, create a token in your settings tab (https://huggingface.co/settings/tokens), set it as secret in your Google Colab and restart your session.\n",
            "You will be able to reuse this secret in all of your notebooks.\n",
            "Please note that authentication is recommended but still optional to access public models or datasets.\n",
            "  warnings.warn(\n"
          ]
        },
        {
          "output_type": "display_data",
          "data": {
            "text/plain": [
              "model.safetensors:   0%|          | 0.00/410M [00:00<?, ?B/s]"
            ],
            "application/vnd.jupyter.widget-view+json": {
              "version_major": 2,
              "version_minor": 0,
              "model_id": "f4ffdac8fe3b4ddba4db0b26835808b7"
            }
          },
          "metadata": {}
        },
        {
          "output_type": "stream",
          "name": "stderr",
          "text": [
            "<ipython-input-4-6a80a17a3f9f>:9: FutureWarning: You are using `torch.load` with `weights_only=False` (the current default value), which uses the default pickle module implicitly. It is possible to construct malicious pickle data which will execute arbitrary code during unpickling (See https://github.com/pytorch/pytorch/blob/main/SECURITY.md#untrusted-models for more details). In a future release, the default value for `weights_only` will be flipped to `True`. This limits the functions that could be executed during unpickling. Arbitrary objects will no longer be allowed to be loaded via this mode unless they are explicitly allowlisted by the user via `torch.serialization.add_safe_globals`. We recommend you start setting `weights_only=True` for any use case where you don't have full control of the loaded file. Please open an issue on GitHub for any issues related to this experimental feature.\n",
            "  checkpoint = torch.load(\"siamese_best_model.pth\")\n"
          ]
        },
        {
          "output_type": "execute_result",
          "data": {
            "text/plain": [
              "<All keys matched successfully>"
            ]
          },
          "metadata": {},
          "execution_count": 4
        }
      ]
    },
    {
      "cell_type": "code",
      "source": [
        "# mp.set_start_method('spawn', force=True)\n",
        "\n",
        "\n",
        "\n",
        "# Data Loading\n",
        "train_loader, val_loader = load_data(batch_size=32, triplet_fraction=0.1, num_train_images_per_class=5, num_val_images_per_class=2, model=model)\n",
        "\n",
        "\n",
        "\n",
        "# Define optimizer, scheduler, and loss function\n",
        "criterion = TripletLoss(margin=0.2)\n",
        "optimizer = torch.optim.Adam(model.parameters(), lr=0.001)\n",
        "scheduler = torch.optim.lr_scheduler.ReduceLROnPlateau(\n",
        "    optimizer,\n",
        "    mode='min',          # Reduce LR when the monitored metric stops decreasing\n",
        "    factor=0.1,          # Multiply LR by this factor\n",
        "    patience=7,          # Number of epochs to wait before reducing LR\n",
        "    threshold=1e-4,      # Minimum change to qualify as an improvement\n",
        "    cooldown=2,          # Number of epochs to wait after reducing LR\n",
        "    min_lr=1e-6          # Minimum learning rate\n",
        ")\n",
        "scaler = GradScaler()"
      ],
      "metadata": {
        "id": "0NdoeHk7mBi2",
        "colab": {
          "base_uri": "https://localhost:8080/"
        },
        "outputId": "155bfb3a-5c8b-4fe1-f5c4-2676f40a2513"
      },
      "execution_count": 13,
      "outputs": [
        {
          "output_type": "stream",
          "name": "stdout",
          "text": [
            "Precomputing embeddings for all images...\n"
          ]
        },
        {
          "output_type": "stream",
          "name": "stderr",
          "text": [
            "Embedding Images: 100%|██████████| 10/10 [00:20<00:00,  2.07s/it]\n"
          ]
        },
        {
          "output_type": "stream",
          "name": "stdout",
          "text": [
            "Precomputing embeddings for all images...\n"
          ]
        },
        {
          "output_type": "stream",
          "name": "stderr",
          "text": [
            "Embedding Images: 100%|██████████| 10/10 [00:07<00:00,  1.30it/s]\n",
            "/usr/local/lib/python3.10/dist-packages/torch/utils/data/dataloader.py:617: UserWarning: This DataLoader will create 6 worker processes in total. Our suggested max number of worker in current system is 2, which is smaller than what this DataLoader is going to create. Please be aware that excessive worker creation might get DataLoader running slow or even freeze, lower the worker number to avoid potential slowness/freeze if necessary.\n",
            "  warnings.warn(\n",
            "<ipython-input-13-e6a11c69a795>:22: FutureWarning: `torch.cuda.amp.GradScaler(args...)` is deprecated. Please use `torch.amp.GradScaler('cuda', args...)` instead.\n",
            "  scaler = GradScaler()\n"
          ]
        }
      ]
    },
    {
      "cell_type": "code",
      "source": [
        "train_model(model, train_loader, val_loader, criterion, optimizer, scheduler, scaler, device)"
      ],
      "metadata": {
        "colab": {
          "base_uri": "https://localhost:8080/",
          "height": 1000
        },
        "id": "JAhs4DawA9-j",
        "outputId": "d4bc668f-d232-4461-b8fd-a8729e071158"
      },
      "execution_count": 14,
      "outputs": [
        {
          "output_type": "stream",
          "name": "stdout",
          "text": [
            "Epoch 1/50\n"
          ]
        },
        {
          "output_type": "stream",
          "name": "stderr",
          "text": [
            "\rTraining:   0%|          | 0/15 [00:00<?, ?it/s]<ipython-input-3-e7d6671bc360>:260: FutureWarning: `torch.cuda.amp.autocast(args...)` is deprecated. Please use `torch.amp.autocast('cuda', args...)` instead.\n",
            "  with autocast():\n",
            "Validation:   0%|          | 0/1 [00:00<?, ?it/s]<ipython-input-3-e7d6671bc360>:288: FutureWarning: `torch.cuda.amp.autocast(args...)` is deprecated. Please use `torch.amp.autocast('cuda', args...)` instead.\n",
            "  with autocast():\n"
          ]
        },
        {
          "output_type": "stream",
          "name": "stdout",
          "text": [
            "Train Loss: 0.1870\n",
            "Val Loss: 8.5496\n",
            "Epoch 2/50\n"
          ]
        },
        {
          "output_type": "stream",
          "name": "stderr",
          "text": []
        },
        {
          "output_type": "stream",
          "name": "stdout",
          "text": [
            "Train Loss: 0.1771\n",
            "Val Loss: 0.2135\n",
            "Epoch 3/50\n"
          ]
        },
        {
          "output_type": "stream",
          "name": "stderr",
          "text": []
        },
        {
          "output_type": "stream",
          "name": "stdout",
          "text": [
            "Train Loss: 0.1804\n",
            "Val Loss: 0.1690\n",
            "Epoch 4/50\n"
          ]
        },
        {
          "output_type": "stream",
          "name": "stderr",
          "text": []
        },
        {
          "output_type": "stream",
          "name": "stdout",
          "text": [
            "Train Loss: 0.1830\n",
            "Val Loss: 0.2450\n",
            "Epoch 5/50\n"
          ]
        },
        {
          "output_type": "stream",
          "name": "stderr",
          "text": []
        },
        {
          "output_type": "stream",
          "name": "stdout",
          "text": [
            "Train Loss: 0.1646\n",
            "Val Loss: 0.4138\n",
            "Epoch 6/50\n"
          ]
        },
        {
          "output_type": "stream",
          "name": "stderr",
          "text": []
        },
        {
          "output_type": "stream",
          "name": "stdout",
          "text": [
            "Train Loss: 0.1811\n",
            "Val Loss: 0.2874\n",
            "Epoch 7/50\n"
          ]
        },
        {
          "output_type": "stream",
          "name": "stderr",
          "text": []
        },
        {
          "output_type": "stream",
          "name": "stdout",
          "text": [
            "Train Loss: 0.1736\n",
            "Val Loss: 0.2347\n",
            "Epoch 8/50\n"
          ]
        },
        {
          "output_type": "stream",
          "name": "stderr",
          "text": []
        },
        {
          "output_type": "stream",
          "name": "stdout",
          "text": [
            "Train Loss: 0.1634\n",
            "Val Loss: 0.2343\n",
            "Epoch 9/50\n"
          ]
        },
        {
          "output_type": "stream",
          "name": "stderr",
          "text": []
        },
        {
          "output_type": "stream",
          "name": "stdout",
          "text": [
            "Train Loss: 0.1702\n",
            "Val Loss: 0.1648\n",
            "Epoch 10/50\n"
          ]
        },
        {
          "output_type": "stream",
          "name": "stderr",
          "text": []
        },
        {
          "output_type": "stream",
          "name": "stdout",
          "text": [
            "Train Loss: 0.1727\n",
            "Val Loss: 0.2206\n",
            "Epoch 11/50\n"
          ]
        },
        {
          "output_type": "stream",
          "name": "stderr",
          "text": []
        },
        {
          "output_type": "stream",
          "name": "stdout",
          "text": [
            "Train Loss: 0.1725\n",
            "Val Loss: 0.2561\n",
            "Epoch 12/50\n"
          ]
        },
        {
          "output_type": "stream",
          "name": "stderr",
          "text": []
        },
        {
          "output_type": "stream",
          "name": "stdout",
          "text": [
            "Train Loss: 0.1814\n",
            "Val Loss: 0.2542\n",
            "Epoch 13/50\n"
          ]
        },
        {
          "output_type": "stream",
          "name": "stderr",
          "text": []
        },
        {
          "output_type": "stream",
          "name": "stdout",
          "text": [
            "Train Loss: 0.1854\n",
            "Val Loss: 0.2431\n",
            "Epoch 14/50\n"
          ]
        },
        {
          "output_type": "stream",
          "name": "stderr",
          "text": []
        },
        {
          "output_type": "stream",
          "name": "stdout",
          "text": [
            "Train Loss: 0.1598\n",
            "Val Loss: 0.1870\n",
            "Epoch 15/50\n"
          ]
        },
        {
          "output_type": "stream",
          "name": "stderr",
          "text": []
        },
        {
          "output_type": "stream",
          "name": "stdout",
          "text": [
            "Train Loss: 0.1692\n",
            "Val Loss: 0.1014\n",
            "Epoch 16/50\n"
          ]
        },
        {
          "output_type": "stream",
          "name": "stderr",
          "text": []
        },
        {
          "output_type": "stream",
          "name": "stdout",
          "text": [
            "Train Loss: 0.1515\n",
            "Val Loss: 0.2530\n",
            "Epoch 17/50\n"
          ]
        },
        {
          "output_type": "stream",
          "name": "stderr",
          "text": []
        },
        {
          "output_type": "stream",
          "name": "stdout",
          "text": [
            "Train Loss: 0.1562\n",
            "Val Loss: 0.1915\n",
            "Epoch 18/50\n"
          ]
        },
        {
          "output_type": "stream",
          "name": "stderr",
          "text": []
        },
        {
          "output_type": "stream",
          "name": "stdout",
          "text": [
            "Train Loss: 0.1724\n",
            "Val Loss: 0.2575\n",
            "Epoch 19/50\n"
          ]
        },
        {
          "output_type": "stream",
          "name": "stderr",
          "text": []
        },
        {
          "output_type": "stream",
          "name": "stdout",
          "text": [
            "Train Loss: 0.1636\n",
            "Val Loss: 0.2202\n",
            "Epoch 20/50\n"
          ]
        },
        {
          "output_type": "stream",
          "name": "stderr",
          "text": []
        },
        {
          "output_type": "stream",
          "name": "stdout",
          "text": [
            "Train Loss: 0.1570\n",
            "Val Loss: 0.1666\n",
            "Epoch 21/50\n"
          ]
        },
        {
          "output_type": "stream",
          "name": "stderr",
          "text": []
        },
        {
          "output_type": "stream",
          "name": "stdout",
          "text": [
            "Train Loss: 0.1466\n",
            "Val Loss: 0.2760\n",
            "Epoch 22/50\n"
          ]
        },
        {
          "output_type": "stream",
          "name": "stderr",
          "text": []
        },
        {
          "output_type": "stream",
          "name": "stdout",
          "text": [
            "Train Loss: 0.1562\n",
            "Val Loss: 0.2045\n",
            "Epoch 23/50\n"
          ]
        },
        {
          "output_type": "stream",
          "name": "stderr",
          "text": []
        },
        {
          "output_type": "stream",
          "name": "stdout",
          "text": [
            "Train Loss: 0.1582\n",
            "Val Loss: 0.2510\n",
            "Epoch 24/50\n"
          ]
        },
        {
          "output_type": "stream",
          "name": "stderr",
          "text": []
        },
        {
          "output_type": "stream",
          "name": "stdout",
          "text": [
            "Train Loss: 0.1656\n",
            "Val Loss: 0.3253\n",
            "Epoch 25/50\n"
          ]
        },
        {
          "output_type": "stream",
          "name": "stderr",
          "text": []
        },
        {
          "output_type": "stream",
          "name": "stdout",
          "text": [
            "Train Loss: 0.1443\n",
            "Val Loss: 0.1703\n",
            "Epoch 26/50\n"
          ]
        },
        {
          "output_type": "stream",
          "name": "stderr",
          "text": []
        },
        {
          "output_type": "stream",
          "name": "stdout",
          "text": [
            "Train Loss: 0.1372\n",
            "Val Loss: 0.2560\n",
            "Epoch 27/50\n"
          ]
        },
        {
          "output_type": "stream",
          "name": "stderr",
          "text": []
        },
        {
          "output_type": "stream",
          "name": "stdout",
          "text": [
            "Train Loss: 0.1440\n",
            "Val Loss: 0.2836\n",
            "Epoch 28/50\n"
          ]
        },
        {
          "output_type": "stream",
          "name": "stderr",
          "text": []
        },
        {
          "output_type": "stream",
          "name": "stdout",
          "text": [
            "Train Loss: 0.1398\n",
            "Val Loss: 0.2145\n",
            "Epoch 29/50\n"
          ]
        },
        {
          "output_type": "stream",
          "name": "stderr",
          "text": []
        },
        {
          "output_type": "stream",
          "name": "stdout",
          "text": [
            "Train Loss: 0.1558\n",
            "Val Loss: 0.1936\n",
            "Epoch 30/50\n"
          ]
        },
        {
          "output_type": "stream",
          "name": "stderr",
          "text": []
        },
        {
          "output_type": "stream",
          "name": "stdout",
          "text": [
            "Train Loss: 0.1302\n",
            "Val Loss: 0.2052\n",
            "Early stopping triggered.\n"
          ]
        },
        {
          "output_type": "display_data",
          "data": {
            "text/plain": [
              "<Figure size 1000x500 with 1 Axes>"
            ],
            "image/png": "[encoded data removed]"
          },
          "metadata": {}
        }
      ]
    },
    {
      "cell_type": "code",
      "source": [
        "# print state of model\n",
        "model.state_dict()"
      ],
      "metadata": {
        "id": "-88q1tBAVdTl"
      },
      "execution_count": null,
      "outputs": []
    },
    {
      "cell_type": "code",
      "source": [
        "load_checkpoint(\"hard_contrast_vit_siamese_best_model.pth\", model, optimizer)"
      ],
      "metadata": {
        "id": "aNhIqb5aV2ut",
        "colab": {
          "base_uri": "https://localhost:8080/"
        },
        "outputId": "735def0b-bee5-4240-ce92-033006b9c7c1"
      },
      "execution_count": 18,
      "outputs": [
        {
          "output_type": "stream",
          "name": "stderr",
          "text": [
            "<ipython-input-3-e7d6671bc360>:241: FutureWarning: You are using `torch.load` with `weights_only=False` (the current default value), which uses the default pickle module implicitly. It is possible to construct malicious pickle data which will execute arbitrary code during unpickling (See https://github.com/pytorch/pytorch/blob/main/SECURITY.md#untrusted-models for more details). In a future release, the default value for `weights_only` will be flipped to `True`. This limits the functions that could be executed during unpickling. Arbitrary objects will no longer be allowed to be loaded via this mode unless they are explicitly allowlisted by the user via `torch.serialization.add_safe_globals`. We recommend you start setting `weights_only=True` for any use case where you don't have full control of the loaded file. Please open an issue on GitHub for any issues related to this experimental feature.\n",
            "  checkpoint = torch.load(filepath)\n"
          ]
        },
        {
          "output_type": "execute_result",
          "data": {
            "text/plain": [
              "(SiameseNetwork(\n",
              "   (backbone): VisionTransformer(\n",
              "     (patch_embed): PatchEmbed(\n",
              "       (proj): Conv2d(3, 768, kernel_size=(16, 16), stride=(16, 16))\n",
              "       (norm): Identity()\n",
              "     )\n",
              "     (pos_drop): Dropout(p=0.0, inplace=False)\n",
              "     (patch_drop): Identity()\n",
              "     (norm_pre): Identity()\n",
              "     (blocks): Sequential(\n",
              "       (0): Block(\n",
              "         (norm1): LayerNorm((768,), eps=1e-06, elementwise_affine=True)\n",
              "         (attn): Attention(\n",
              "           (qkv): Linear(in_features=768, out_features=2304, bias=True)\n",
              "           (q_norm): Identity()\n",
              "           (k_norm): Identity()\n",
              "           (attn_drop): Dropout(p=0.0, inplace=False)\n",
              "           (proj): Linear(in_features=768, out_features=768, bias=True)\n",
              "           (proj_drop): Dropout(p=0.0, inplace=False)\n",
              "         )\n",
              "         (ls1): Identity()\n",
              "         (drop_path1): Identity()\n",
              "         (norm2): LayerNorm((768,), eps=1e-06, elementwise_affine=True)\n",
              "         (mlp): Mlp(\n",
              "           (fc1): Linear(in_features=768, out_features=3072, bias=True)\n",
              "           (act): GELU(approximate='none')\n",
              "           (drop1): Dropout(p=0.0, inplace=False)\n",
              "           (norm): Identity()\n",
              "           (fc2): Linear(in_features=3072, out_features=768, bias=True)\n",
              "           (drop2): Dropout(p=0.0, inplace=False)\n",
              "         )\n",
              "         (ls2): Identity()\n",
              "         (drop_path2): Identity()\n",
              "       )\n",
              "       (1): Block(\n",
              "         (norm1): LayerNorm((768,), eps=1e-06, elementwise_affine=True)\n",
              "         (attn): Attention(\n",
              "           (qkv): Linear(in_features=768, out_features=2304, bias=True)\n",
              "           (q_norm): Identity()\n",
              "           (k_norm): Identity()\n",
              "           (attn_drop): Dropout(p=0.0, inplace=False)\n",
              "           (proj): Linear(in_features=768, out_features=768, bias=True)\n",
              "           (proj_drop): Dropout(p=0.0, inplace=False)\n",
              "         )\n",
              "         (ls1): Identity()\n",
              "         (drop_path1): Identity()\n",
              "         (norm2): LayerNorm((768,), eps=1e-06, elementwise_affine=True)\n",
              "         (mlp): Mlp(\n",
              "           (fc1): Linear(in_features=768, out_features=3072, bias=True)\n",
              "           (act): GELU(approximate='none')\n",
              "           (drop1): Dropout(p=0.0, inplace=False)\n",
              "           (norm): Identity()\n",
              "           (fc2): Linear(in_features=3072, out_features=768, bias=True)\n",
              "           (drop2): Dropout(p=0.0, inplace=False)\n",
              "         )\n",
              "         (ls2): Identity()\n",
              "         (drop_path2): Identity()\n",
              "       )\n",
              "       (2): Block(\n",
              "         (norm1): LayerNorm((768,), eps=1e-06, elementwise_affine=True)\n",
              "         (attn): Attention(\n",
              "           (qkv): Linear(in_features=768, out_features=2304, bias=True)\n",
              "           (q_norm): Identity()\n",
              "           (k_norm): Identity()\n",
              "           (attn_drop): Dropout(p=0.0, inplace=False)\n",
              "           (proj): Linear(in_features=768, out_features=768, bias=True)\n",
              "           (proj_drop): Dropout(p=0.0, inplace=False)\n",
              "         )\n",
              "         (ls1): Identity()\n",
              "         (drop_path1): Identity()\n",
              "         (norm2): LayerNorm((768,), eps=1e-06, elementwise_affine=True)\n",
              "         (mlp): Mlp(\n",
              "           (fc1): Linear(in_features=768, out_features=3072, bias=True)\n",
              "           (act): GELU(approximate='none')\n",
              "           (drop1): Dropout(p=0.0, inplace=False)\n",
              "           (norm): Identity()\n",
              "           (fc2): Linear(in_features=3072, out_features=768, bias=True)\n",
              "           (drop2): Dropout(p=0.0, inplace=False)\n",
              "         )\n",
              "         (ls2): Identity()\n",
              "         (drop_path2): Identity()\n",
              "       )\n",
              "       (3): Block(\n",
              "         (norm1): LayerNorm((768,), eps=1e-06, elementwise_affine=True)\n",
              "         (attn): Attention(\n",
              "           (qkv): Linear(in_features=768, out_features=2304, bias=True)\n",
              "           (q_norm): Identity()\n",
              "           (k_norm): Identity()\n",
              "           (attn_drop): Dropout(p=0.0, inplace=False)\n",
              "           (proj): Linear(in_features=768, out_features=768, bias=True)\n",
              "           (proj_drop): Dropout(p=0.0, inplace=False)\n",
              "         )\n",
              "         (ls1): Identity()\n",
              "         (drop_path1): Identity()\n",
              "         (norm2): LayerNorm((768,), eps=1e-06, elementwise_affine=True)\n",
              "         (mlp): Mlp(\n",
              "           (fc1): Linear(in_features=768, out_features=3072, bias=True)\n",
              "           (act): GELU(approximate='none')\n",
              "           (drop1): Dropout(p=0.0, inplace=False)\n",
              "           (norm): Identity()\n",
              "           (fc2): Linear(in_features=3072, out_features=768, bias=True)\n",
              "           (drop2): Dropout(p=0.0, inplace=False)\n",
              "         )\n",
              "         (ls2): Identity()\n",
              "         (drop_path2): Identity()\n",
              "       )\n",
              "       (4): Block(\n",
              "         (norm1): LayerNorm((768,), eps=1e-06, elementwise_affine=True)\n",
              "         (attn): Attention(\n",
              "           (qkv): Linear(in_features=768, out_features=2304, bias=True)\n",
              "           (q_norm): Identity()\n",
              "           (k_norm): Identity()\n",
              "           (attn_drop): Dropout(p=0.0, inplace=False)\n",
              "           (proj): Linear(in_features=768, out_features=768, bias=True)\n",
              "           (proj_drop): Dropout(p=0.0, inplace=False)\n",
              "         )\n",
              "         (ls1): Identity()\n",
              "         (drop_path1): Identity()\n",
              "         (norm2): LayerNorm((768,), eps=1e-06, elementwise_affine=True)\n",
              "         (mlp): Mlp(\n",
              "           (fc1): Linear(in_features=768, out_features=3072, bias=True)\n",
              "           (act): GELU(approximate='none')\n",
              "           (drop1): Dropout(p=0.0, inplace=False)\n",
              "           (norm): Identity()\n",
              "           (fc2): Linear(in_features=3072, out_features=768, bias=True)\n",
              "           (drop2): Dropout(p=0.0, inplace=False)\n",
              "         )\n",
              "         (ls2): Identity()\n",
              "         (drop_path2): Identity()\n",
              "       )\n",
              "       (5): Block(\n",
              "         (norm1): LayerNorm((768,), eps=1e-06, elementwise_affine=True)\n",
              "         (attn): Attention(\n",
              "           (qkv): Linear(in_features=768, out_features=2304, bias=True)\n",
              "           (q_norm): Identity()\n",
              "           (k_norm): Identity()\n",
              "           (attn_drop): Dropout(p=0.0, inplace=False)\n",
              "           (proj): Linear(in_features=768, out_features=768, bias=True)\n",
              "           (proj_drop): Dropout(p=0.0, inplace=False)\n",
              "         )\n",
              "         (ls1): Identity()\n",
              "         (drop_path1): Identity()\n",
              "         (norm2): LayerNorm((768,), eps=1e-06, elementwise_affine=True)\n",
              "         (mlp): Mlp(\n",
              "           (fc1): Linear(in_features=768, out_features=3072, bias=True)\n",
              "           (act): GELU(approximate='none')\n",
              "           (drop1): Dropout(p=0.0, inplace=False)\n",
              "           (norm): Identity()\n",
              "           (fc2): Linear(in_features=3072, out_features=768, bias=True)\n",
              "           (drop2): Dropout(p=0.0, inplace=False)\n",
              "         )\n",
              "         (ls2): Identity()\n",
              "         (drop_path2): Identity()\n",
              "       )\n",
              "       (6): Block(\n",
              "         (norm1): LayerNorm((768,), eps=1e-06, elementwise_affine=True)\n",
              "         (attn): Attention(\n",
              "           (qkv): Linear(in_features=768, out_features=2304, bias=True)\n",
              "           (q_norm): Identity()\n",
              "           (k_norm): Identity()\n",
              "           (attn_drop): Dropout(p=0.0, inplace=False)\n",
              "           (proj): Linear(in_features=768, out_features=768, bias=True)\n",
              "           (proj_drop): Dropout(p=0.0, inplace=False)\n",
              "         )\n",
              "         (ls1): Identity()\n",
              "         (drop_path1): Identity()\n",
              "         (norm2): LayerNorm((768,), eps=1e-06, elementwise_affine=True)\n",
              "         (mlp): Mlp(\n",
              "           (fc1): Linear(in_features=768, out_features=3072, bias=True)\n",
              "           (act): GELU(approximate='none')\n",
              "           (drop1): Dropout(p=0.0, inplace=False)\n",
              "           (norm): Identity()\n",
              "           (fc2): Linear(in_features=3072, out_features=768, bias=True)\n",
              "           (drop2): Dropout(p=0.0, inplace=False)\n",
              "         )\n",
              "         (ls2): Identity()\n",
              "         (drop_path2): Identity()\n",
              "       )\n",
              "       (7): Block(\n",
              "         (norm1): LayerNorm((768,), eps=1e-06, elementwise_affine=True)\n",
              "         (attn): Attention(\n",
              "           (qkv): Linear(in_features=768, out_features=2304, bias=True)\n",
              "           (q_norm): Identity()\n",
              "           (k_norm): Identity()\n",
              "           (attn_drop): Dropout(p=0.0, inplace=False)\n",
              "           (proj): Linear(in_features=768, out_features=768, bias=True)\n",
              "           (proj_drop): Dropout(p=0.0, inplace=False)\n",
              "         )\n",
              "         (ls1): Identity()\n",
              "         (drop_path1): Identity()\n",
              "         (norm2): LayerNorm((768,), eps=1e-06, elementwise_affine=True)\n",
              "         (mlp): Mlp(\n",
              "           (fc1): Linear(in_features=768, out_features=3072, bias=True)\n",
              "           (act): GELU(approximate='none')\n",
              "           (drop1): Dropout(p=0.0, inplace=False)\n",
              "           (norm): Identity()\n",
              "           (fc2): Linear(in_features=3072, out_features=768, bias=True)\n",
              "           (drop2): Dropout(p=0.0, inplace=False)\n",
              "         )\n",
              "         (ls2): Identity()\n",
              "         (drop_path2): Identity()\n",
              "       )\n",
              "       (8): Block(\n",
              "         (norm1): LayerNorm((768,), eps=1e-06, elementwise_affine=True)\n",
              "         (attn): Attention(\n",
              "           (qkv): Linear(in_features=768, out_features=2304, bias=True)\n",
              "           (q_norm): Identity()\n",
              "           (k_norm): Identity()\n",
              "           (attn_drop): Dropout(p=0.0, inplace=False)\n",
              "           (proj): Linear(in_features=768, out_features=768, bias=True)\n",
              "           (proj_drop): Dropout(p=0.0, inplace=False)\n",
              "         )\n",
              "         (ls1): Identity()\n",
              "         (drop_path1): Identity()\n",
              "         (norm2): LayerNorm((768,), eps=1e-06, elementwise_affine=True)\n",
              "         (mlp): Mlp(\n",
              "           (fc1): Linear(in_features=768, out_features=3072, bias=True)\n",
              "           (act): GELU(approximate='none')\n",
              "           (drop1): Dropout(p=0.0, inplace=False)\n",
              "           (norm): Identity()\n",
              "           (fc2): Linear(in_features=3072, out_features=768, bias=True)\n",
              "           (drop2): Dropout(p=0.0, inplace=False)\n",
              "         )\n",
              "         (ls2): Identity()\n",
              "         (drop_path2): Identity()\n",
              "       )\n",
              "       (9): Block(\n",
              "         (norm1): LayerNorm((768,), eps=1e-06, elementwise_affine=True)\n",
              "         (attn): Attention(\n",
              "           (qkv): Linear(in_features=768, out_features=2304, bias=True)\n",
              "           (q_norm): Identity()\n",
              "           (k_norm): Identity()\n",
              "           (attn_drop): Dropout(p=0.0, inplace=False)\n",
              "           (proj): Linear(in_features=768, out_features=768, bias=True)\n",
              "           (proj_drop): Dropout(p=0.0, inplace=False)\n",
              "         )\n",
              "         (ls1): Identity()\n",
              "         (drop_path1): Identity()\n",
              "         (norm2): LayerNorm((768,), eps=1e-06, elementwise_affine=True)\n",
              "         (mlp): Mlp(\n",
              "           (fc1): Linear(in_features=768, out_features=3072, bias=True)\n",
              "           (act): GELU(approximate='none')\n",
              "           (drop1): Dropout(p=0.0, inplace=False)\n",
              "           (norm): Identity()\n",
              "           (fc2): Linear(in_features=3072, out_features=768, bias=True)\n",
              "           (drop2): Dropout(p=0.0, inplace=False)\n",
              "         )\n",
              "         (ls2): Identity()\n",
              "         (drop_path2): Identity()\n",
              "       )\n",
              "       (10): Block(\n",
              "         (norm1): LayerNorm((768,), eps=1e-06, elementwise_affine=True)\n",
              "         (attn): Attention(\n",
              "           (qkv): Linear(in_features=768, out_features=2304, bias=True)\n",
              "           (q_norm): Identity()\n",
              "           (k_norm): Identity()\n",
              "           (attn_drop): Dropout(p=0.0, inplace=False)\n",
              "           (proj): Linear(in_features=768, out_features=768, bias=True)\n",
              "           (proj_drop): Dropout(p=0.0, inplace=False)\n",
              "         )\n",
              "         (ls1): Identity()\n",
              "         (drop_path1): Identity()\n",
              "         (norm2): LayerNorm((768,), eps=1e-06, elementwise_affine=True)\n",
              "         (mlp): Mlp(\n",
              "           (fc1): Linear(in_features=768, out_features=3072, bias=True)\n",
              "           (act): GELU(approximate='none')\n",
              "           (drop1): Dropout(p=0.0, inplace=False)\n",
              "           (norm): Identity()\n",
              "           (fc2): Linear(in_features=3072, out_features=768, bias=True)\n",
              "           (drop2): Dropout(p=0.0, inplace=False)\n",
              "         )\n",
              "         (ls2): Identity()\n",
              "         (drop_path2): Identity()\n",
              "       )\n",
              "       (11): Block(\n",
              "         (norm1): LayerNorm((768,), eps=1e-06, elementwise_affine=True)\n",
              "         (attn): Attention(\n",
              "           (qkv): Linear(in_features=768, out_features=2304, bias=True)\n",
              "           (q_norm): Identity()\n",
              "           (k_norm): Identity()\n",
              "           (attn_drop): Dropout(p=0.0, inplace=False)\n",
              "           (proj): Linear(in_features=768, out_features=768, bias=True)\n",
              "           (proj_drop): Dropout(p=0.0, inplace=False)\n",
              "         )\n",
              "         (ls1): Identity()\n",
              "         (drop_path1): Identity()\n",
              "         (norm2): LayerNorm((768,), eps=1e-06, elementwise_affine=True)\n",
              "         (mlp): Mlp(\n",
              "           (fc1): Linear(in_features=768, out_features=3072, bias=True)\n",
              "           (act): GELU(approximate='none')\n",
              "           (drop1): Dropout(p=0.0, inplace=False)\n",
              "           (norm): Identity()\n",
              "           (fc2): Linear(in_features=3072, out_features=768, bias=True)\n",
              "           (drop2): Dropout(p=0.0, inplace=False)\n",
              "         )\n",
              "         (ls2): Identity()\n",
              "         (drop_path2): Identity()\n",
              "       )\n",
              "     )\n",
              "     (norm): LayerNorm((768,), eps=1e-06, elementwise_affine=True)\n",
              "     (fc_norm): Identity()\n",
              "     (head_drop): Dropout(p=0.0, inplace=False)\n",
              "     (head): Identity()\n",
              "   )\n",
              " ),\n",
              " Adam (\n",
              " Parameter Group 0\n",
              "     amsgrad: False\n",
              "     betas: (0.9, 0.999)\n",
              "     capturable: False\n",
              "     differentiable: False\n",
              "     eps: 1e-08\n",
              "     foreach: None\n",
              "     fused: None\n",
              "     lr: 0.001\n",
              "     maximize: False\n",
              "     weight_decay: 0\n",
              " ),\n",
              " 14,\n",
              " 0.10135499387979507)"
            ]
          },
          "metadata": {},
          "execution_count": 18
        }
      ]
    },
    {
      "cell_type": "code",
      "source": [
        "from sklearn.cluster import KMeans\n",
        "from sklearn.neighbors import NearestNeighbors\n",
        "from sklearn.metrics import pairwise_distances, recall_score, precision_score\n",
        "from sklearn.manifold import TSNE\n",
        "import matplotlib.pyplot as plt\n",
        "import numpy as np\n",
        "\n",
        "\n",
        "def generate_embeddings(model, loader, device):\n",
        "    \"\"\"\n",
        "    Generate embeddings and labels for all samples in the validation loader.\n",
        "\n",
        "    Args:\n",
        "        model (torch.nn.Module): Trained Siamese network.\n",
        "        loader (torch.utils.data.DataLoader): Validation data loader.\n",
        "        device (torch.device): Device to use for computation.\n",
        "\n",
        "    Returns:\n",
        "        embeddings (numpy.ndarray): Generated embeddings for all samples.\n",
        "        labels (numpy.ndarray): Corresponding class labels.\n",
        "    \"\"\"\n",
        "    model.eval()\n",
        "    embeddings, labels = [], []\n",
        "\n",
        "    with torch.no_grad():\n",
        "        for images, targets in loader:  # Assuming loader returns (image, label) tuples\n",
        "            images = images.to(device)\n",
        "            outputs = model(images)\n",
        "            embeddings.append(outputs.cpu().numpy())\n",
        "            labels.append(targets.numpy())\n",
        "\n",
        "    embeddings = np.vstack(embeddings)\n",
        "    labels = np.hstack(labels)\n",
        "\n",
        "    return embeddings, labels\n",
        "\n",
        "def compute_recall_at_k(embeddings, labels, k=5):\n",
        "    \"\"\"\n",
        "    Compute Recall@K for the generated embeddings.\n",
        "\n",
        "    Args:\n",
        "        embeddings (numpy.ndarray): Embedding vectors.\n",
        "        labels (numpy.ndarray): Corresponding class labels.\n",
        "        k (int): Number of nearest neighbors to consider.\n",
        "\n",
        "    Returns:\n",
        "        recall (float): Recall@K value.\n",
        "    \"\"\"\n",
        "    distances = pairwise_distances(embeddings, metric=\"euclidean\")\n",
        "    recall_at_k = []\n",
        "\n",
        "    for i in range(len(labels)):\n",
        "        # Get indices of the K nearest neighbors (excluding itself)\n",
        "        neighbors = np.argsort(distances[i])[1:k+1]\n",
        "        # Check if any neighbor has the same label\n",
        "        recall_at_k.append(any(labels[i] == labels[neighbor] for neighbor in neighbors))\n",
        "\n",
        "    return np.mean(recall_at_k)\n",
        "\n",
        "def compute_map(embeddings, labels):\n",
        "    \"\"\"\n",
        "    Compute Mean Average Precision (mAP) for the embeddings.\n",
        "\n",
        "    Args:\n",
        "        embeddings (numpy.ndarray): Embedding vectors.\n",
        "        labels (numpy.ndarray): Corresponding class labels.\n",
        "\n",
        "    Returns:\n",
        "        mAP (float): Mean Average Precision score.\n",
        "    \"\"\"\n",
        "    distances = pairwise_distances(embeddings, metric=\"euclidean\")\n",
        "    average_precisions = []\n",
        "\n",
        "    for i in range(len(labels)):\n",
        "        # Get sorted indices based on distances\n",
        "        neighbors = np.argsort(distances[i])\n",
        "        relevant = 0\n",
        "        precision_sum = 0.0\n",
        "\n",
        "        for rank, neighbor in enumerate(neighbors[1:], start=1):  # Skip self-comparison\n",
        "            if labels[i] == labels[neighbor]:\n",
        "                relevant += 1\n",
        "                precision_sum += relevant / rank\n",
        "\n",
        "        if relevant > 0:\n",
        "            average_precisions.append(precision_sum / relevant)\n",
        "\n",
        "    return np.mean(average_precisions)\n",
        "\n",
        "\n",
        "\n",
        "def visualize_embeddings(embeddings, labels):\n",
        "    \"\"\"\n",
        "    Visualize embeddings using t-SNE.\n",
        "\n",
        "    Args:\n",
        "        embeddings (numpy.ndarray): Embedding vectors.\n",
        "        labels (numpy.ndarray): Corresponding class labels.\n",
        "    \"\"\"\n",
        "    tsne = TSNE(n_components=2, random_state=42)\n",
        "    reduced_embeddings = tsne.fit_transform(embeddings)\n",
        "\n",
        "    plt.figure(figsize=(10, 7))\n",
        "    scatter = plt.scatter(\n",
        "        reduced_embeddings[:, 0], reduced_embeddings[:, 1], c=labels, cmap=\"tab10\", s=5\n",
        "    )\n",
        "    plt.colorbar(scatter)\n",
        "    plt.title(\"t-SNE Visualization of Embeddings\")\n",
        "    plt.show()\n",
        "\n",
        "def evaluate_model(model, loader, device, k=5):\n",
        "    \"\"\"\n",
        "    Evaluate the Siamese network.\n",
        "\n",
        "    Args:\n",
        "        model (torch.nn.Module): Trained Siamese network.\n",
        "        loader (torch.utils.data.DataLoader): Validation data loader.\n",
        "        device (torch.device): Device for computation.\n",
        "        k (int): Number of neighbors for Recall@K.\n",
        "\n",
        "    Returns:\n",
        "        metrics (dict): Evaluation metrics including Recall@K and mAP.\n",
        "    \"\"\"\n",
        "    embeddings, labels = generate_embeddings(model, loader, device)\n",
        "\n",
        "    # Compute metrics\n",
        "    recall = compute_recall_at_k(embeddings, labels, k)\n",
        "    map_score = compute_map(embeddings, labels)\n",
        "\n",
        "    print(f\"Recall@{k}: {recall:.4f}\")\n",
        "    print(f\"Mean Average Precision (mAP): {map_score:.4f}\")\n",
        "\n",
        "    # Visualize embeddings\n",
        "    visualize_embeddings(embeddings, labels)\n",
        "\n",
        "    return {\"Recall@K\": recall, \"mAP\": map_score}"
      ],
      "metadata": {
        "id": "XRkSNj9pIe1N"
      },
      "execution_count": null,
      "outputs": []
    },
    {
      "cell_type": "code",
      "source": [
        "val_transform = transforms.Compose([\n",
        "        transforms.Resize((224, 224)),\n",
        "        transforms.ToTensor(),\n",
        "        transforms.Normalize(mean=[0.5, 0.5, 0.5], std=[0.5, 0.5, 0.5])\n",
        "    ])\n",
        "test_dataset = datasets.ImageFolder(root='data/test', transform=val_transform)"
      ],
      "metadata": {
        "id": "TAi2APOrI6rG"
      },
      "execution_count": null,
      "outputs": []
    },
    {
      "cell_type": "code",
      "source": [
        "test_loader = DataLoader(test_dataset, batch_size=32, num_workers=8, pin_memory=True)"
      ],
      "metadata": {
        "id": "xIB64bzXJK1_",
        "colab": {
          "base_uri": "https://localhost:8080/"
        },
        "outputId": "482351f5-16ed-405f-b6d2-a968c8013b59"
      },
      "execution_count": null,
      "outputs": [
        {
          "output_type": "stream",
          "name": "stderr",
          "text": [
            "/usr/local/lib/python3.10/dist-packages/torch/utils/data/dataloader.py:617: UserWarning: This DataLoader will create 8 worker processes in total. Our suggested max number of worker in current system is 2, which is smaller than what this DataLoader is going to create. Please be aware that excessive worker creation might get DataLoader running slow or even freeze, lower the worker number to avoid potential slowness/freeze if necessary.\n",
            "  warnings.warn(\n"
          ]
        }
      ]
    },
    {
      "cell_type": "code",
      "source": [
        "model.to(device)"
      ],
      "metadata": {
        "id": "gU1IU80DNUJc"
      },
      "execution_count": null,
      "outputs": []
    },
    {
      "cell_type": "code",
      "source": [
        "metrics = evaluate_model(model, test_loader, device, k=5)"
      ],
      "metadata": {
        "colab": {
          "base_uri": "https://localhost:8080/",
          "height": 713
        },
        "id": "f-jGEn8uI5k4",
        "outputId": "f7fb3c4f-3a6d-420c-9b22-e62703901f39"
      },
      "execution_count": 20,
      "outputs": [
        {
          "output_type": "stream",
          "name": "stderr",
          "text": [
            "/usr/local/lib/python3.10/dist-packages/torch/utils/data/dataloader.py:617: UserWarning: This DataLoader will create 8 worker processes in total. Our suggested max number of worker in current system is 2, which is smaller than what this DataLoader is going to create. Please be aware that excessive worker creation might get DataLoader running slow or even freeze, lower the worker number to avoid potential slowness/freeze if necessary.\n",
            "  warnings.warn(\n"
          ]
        },
        {
          "output_type": "stream",
          "name": "stdout",
          "text": [
            "Recall@5: 0.6623\n",
            "Mean Average Precision (mAP): 0.2232\n"
          ]
        },
        {
          "output_type": "display_data",
          "data": {
            "text/plain": [
              "<Figure size 1000x700 with 2 Axes>"
            ],
            "image/png": "[encoded data removed]"
          },
          "metadata": {}
        }
      ]
    },
    {
      "cell_type": "code",
      "source": [
        "print(metrics)"
      ],
      "metadata": {
        "colab": {
          "base_uri": "https://localhost:8080/"
        },
        "id": "dT_AKoe4OZZm",
        "outputId": "b2512128-38df-4c6e-da70-44106ced744b"
      },
      "execution_count": null,
      "outputs": [
        {
          "output_type": "stream",
          "name": "stdout",
          "text": [
            "{'Recall@K': 0.7408857352581355, 'mAP': 0.2836929424302793}\n"
          ]
        }
      ]
    },
    {
      "cell_type": "code",
      "source": [
        "import gc\n",
        "gc.collect()\n",
        "torch.cuda.empty_cache()"
      ],
      "metadata": {
        "id": "-n21kBOt0UAf"
      },
      "execution_count": null,
      "outputs": []
    }
  ]
}